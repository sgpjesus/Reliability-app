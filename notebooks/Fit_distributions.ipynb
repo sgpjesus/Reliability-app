{
 "cells": [
  {
   "cell_type": "markdown",
   "metadata": {},
   "source": [
    "# TODO\n",
    "This notebook in itself is not very interactive, as it only uses the analytics_stat.distributions module to fit the distributions to a TTF (Time to failure) set. Therefore the work to be done here is mainly in the distributions module, as this notebook doesn't necessarily have to be more complex\n",
    "* Change the distributions fitting method so it isn't stochastic and use the relationship between parameters to calculate them (Most likelihood estimation method)\n",
    "* Comment the code and refactor"
   ]
  },
  {
   "cell_type": "code",
   "execution_count": 1,
   "metadata": {},
   "outputs": [],
   "source": [
    "import sys \n",
    "sys.path.append(r'/home/emanuel/Desktop/Reliability-app/bin')"
   ]
  },
  {
   "cell_type": "code",
   "execution_count": 2,
   "metadata": {
    "ExecuteTime": {
     "end_time": "2017-10-13T09:32:45.139696Z",
     "start_time": "2017-10-13T09:32:44.094360Z"
    },
    "extensions": {
     "jupyter_dashboards": {
      "version": 1,
      "views": {
       "grid_default": {
        "col": 0,
        "height": 4,
        "hidden": true,
        "row": 0,
        "width": 4
       },
       "report_default": {}
      }
     }
    }
   },
   "outputs": [
    {
     "data": {
      "text/html": [
       "<script>requirejs.config({paths: { 'plotly': ['https://cdn.plot.ly/plotly-latest.min']},});if(!window.Plotly) {{require(['plotly'],function(plotly) {window.Plotly=plotly;});}}</script>"
      ],
      "text/vnd.plotly.v1+html": [
       "<script>requirejs.config({paths: { 'plotly': ['https://cdn.plot.ly/plotly-latest.min']},});if(!window.Plotly) {{require(['plotly'],function(plotly) {window.Plotly=plotly;});}}</script>"
      ]
     },
     "metadata": {},
     "output_type": "display_data"
    },
    {
     "data": {
      "text/html": [
       "<script>requirejs.config({paths: { 'plotly': ['https://cdn.plot.ly/plotly-latest.min']},});if(!window.Plotly) {{require(['plotly'],function(plotly) {window.Plotly=plotly;});}}</script>"
      ],
      "text/vnd.plotly.v1+html": [
       "<script>requirejs.config({paths: { 'plotly': ['https://cdn.plot.ly/plotly-latest.min']},});if(!window.Plotly) {{require(['plotly'],function(plotly) {window.Plotly=plotly;});}}</script>"
      ]
     },
     "metadata": {},
     "output_type": "display_data"
    },
    {
     "data": {
      "text/html": [
       "<script>\n",
       "code_show=true; \n",
       "function code_toggle() {\n",
       " if (code_show){\n",
       " $('div.input').hide();\n",
       " } else {\n",
       " $('div.input').show();\n",
       " }\n",
       " code_show = !code_show\n",
       "} \n",
       "$( document ).ready(code_toggle);\n",
       "</script>\n",
       "This report hides the raw code used for its implementation by default.\n",
       "To hide/show the raw code, click <a href=\"javascript:code_toggle()\">here</a>."
      ],
      "text/plain": [
       "<IPython.core.display.HTML object>"
      ]
     },
     "metadata": {},
     "output_type": "display_data"
    }
   ],
   "source": [
    "import analytics_stat.distributions as di\n",
    "\n",
    "import warnings\n",
    "warnings.filterwarnings('ignore')\n",
    "\n",
    "import datetime\n",
    "import scipy.stats as s\n",
    "#import scipy.optimize as opt\n",
    "#import scipy.special as special\n",
    "import numpy as np\n",
    "import matplotlib.pyplot as plt\n",
    "import ipywidgets as widgets\n",
    "%matplotlib inline\n",
    "# %matplotlib notebook\n",
    "\n",
    "import os\n",
    "import json\n",
    "import pandas as pd\n",
    "import qgrid\n",
    "from IPython.display import HTML, Image, display, clear_output\n",
    "from ipywidgets import Output\n",
    "import plotly.offline as py\n",
    "import plotly.graph_objs as go\n",
    "py.init_notebook_mode(connected=True)\n",
    "\n",
    "display(HTML('''<script>\n",
    "code_show=true; \n",
    "function code_toggle() {\n",
    " if (code_show){\n",
    " $('div.input').hide();\n",
    " } else {\n",
    " $('div.input').show();\n",
    " }\n",
    " code_show = !code_show\n",
    "} \n",
    "$( document ).ready(code_toggle);\n",
    "</script>\n",
    "This report hides the raw code used for its implementation by default.\n",
    "To hide/show the raw code, click <a href=\"javascript:code_toggle()\">here</a>.'''))\n",
    "\n"
   ]
  },
  {
   "cell_type": "code",
   "execution_count": 80,
   "metadata": {},
   "outputs": [],
   "source": [
    "from importlib import reload"
   ]
  },
  {
   "cell_type": "code",
   "execution_count": 81,
   "metadata": {
    "scrolled": true
   },
   "outputs": [
    {
     "data": {
      "text/html": [
       "<script>requirejs.config({paths: { 'plotly': ['https://cdn.plot.ly/plotly-latest.min']},});if(!window.Plotly) {{require(['plotly'],function(plotly) {window.Plotly=plotly;});}}</script>"
      ],
      "text/vnd.plotly.v1+html": [
       "<script>requirejs.config({paths: { 'plotly': ['https://cdn.plot.ly/plotly-latest.min']},});if(!window.Plotly) {{require(['plotly'],function(plotly) {window.Plotly=plotly;});}}</script>"
      ]
     },
     "metadata": {},
     "output_type": "display_data"
    },
    {
     "data": {
      "text/plain": [
       "<module 'analytics_stat.distributions' from '/home/emanuel/Desktop/Reliability-app/bin/analytics_stat/distributions.py'>"
      ]
     },
     "execution_count": 81,
     "metadata": {},
     "output_type": "execute_result"
    }
   ],
   "source": [
    "reload(di)"
   ]
  },
  {
   "cell_type": "code",
   "execution_count": 5,
   "metadata": {},
   "outputs": [],
   "source": [
    "out = Output()"
   ]
  },
  {
   "cell_type": "code",
   "execution_count": 7,
   "metadata": {
    "ExecuteTime": {
     "end_time": "2017-10-13T09:32:46.101355Z",
     "start_time": "2017-10-13T09:32:45.141702Z"
    },
    "code_folding": []
   },
   "outputs": [],
   "source": [
    "import traitlets\n",
    "from tkinter import Tk, filedialog\n",
    "\n",
    "\n",
    "class Plotting:\n",
    "    \n",
    "    def __init__(self):\n",
    "        pass\n",
    "    \n",
    "    def plot_line(self, json, x, y, name):\n",
    "        x = json.x\n",
    "        y = json.y\n",
    "        name = json.name\n",
    "        trace_line = go.Scatter(x = x, y = y, mode = 'lines', opacity = 0.8, name = name, xaxis = 'x', yaxis = 'y')\n",
    "        \n",
    "    def plot_scatter(self,  x, y, name):\n",
    "        x = json.x\n",
    "        y = json.y\n",
    "        name = json.name\n",
    "        trace_scatter = go.Scatter(x = x, y = y, mode = 'markers', opacity = 0.8, name = fn, xaxis = 'x', yaxis = 'y')\n",
    "        \n",
    "    def plot_histogram(self,  x, name, normed):\n",
    "        x= json.x\n",
    "        normed = json.type  # 'probability'\n",
    "        trace_histogram = go.Histogram(x=x, histnorm=normed)\n",
    "                           \n",
    "    def create_layout(self, title, xlabel, ylabel):\n",
    "        title = json.title\n",
    "        xlabel = json.xlabel\n",
    "        ylabel = json.ylabel\n",
    "        layout = Layout(title=title, yaxis=dict(title=ylabel)) \n",
    "        \n",
    "    def draw(self,trace,layout):\n",
    "        fig = go.Figure(data = [trace_histogram],layout=layout)\n",
    "        py.iplot(fig)\n",
    "\n",
    "\n",
    "class StatPlot(Plotting):\n",
    "    \n",
    "    def __init__(self):\n",
    "        \n",
    "        pass\n",
    "    \n",
    "    def pdf(self, json):\n",
    "        \n",
    "        pdf_mle = dist_funs[dist_index[0]].pdf(params_dist_mle,  x_plot)\n",
    "\n",
    "\n",
    "\n",
    "class Display:\n",
    "    \n",
    "    def __init__(self):\n",
    "        self.out = out\n",
    "        # Clear Output button\n",
    "        self._blo = widgets.Button(layout=widgets.Layout(width='500px',height='50px'))\n",
    "        self._blo.description = \"Clear Output\"\n",
    "        self._blo.icon = 'download'\n",
    "        self._blo.on_click(self.clear_output)\n",
    "        self._blo.disabled = False\n",
    "        \n",
    "        # Select file button\n",
    "        self._bsf = widgets.Button(layout=widgets.Layout(width='500px',height='50px'))\n",
    "        self._bsf.add_traits(files=traitlets.traitlets.List())\n",
    "        self._bsf.description = \"Select File\"\n",
    "        self._bsf.icon = \"square-o\"\n",
    "        self._bsf.on_click(self.select_json)\n",
    "        \n",
    "        \n",
    "        # Load Json button\n",
    "        self._blj = widgets.Button(layout=widgets.Layout(width='500px',height='50px'))\n",
    "        self._blj.description = \"Load File\"\n",
    "        self._blj.icon = 'download'\n",
    "        self._blj.on_click(self.load_json)\n",
    "        self._blj.disabled = True\n",
    "        \n",
    "        # Rank distributions button\n",
    "        self._brd = widgets.Button(layout=widgets.Layout(width='500px',height='50px'))\n",
    "        self._brd.description = 'Rank Distributions'\n",
    "        self._brd.icon = \"area-chart\"\n",
    "        self._brd.on_click(self.rank_distributions)\n",
    "        self._brd.disabled = True\n",
    "        \n",
    "        # Select distributions\n",
    "        self._sdist = widgets.SelectMultiple(\n",
    "                    options=['weibull3p', 'weibull2p', 'normal', 'lognormal',\n",
    "                  'exponential1p', 'exponential2p', 'logistic', 'loglogistic'],\n",
    "                    value=['weibull3p', 'weibull2p', 'normal', 'lognormal',\n",
    "                  'exponential1p', 'exponential2p', 'logistic', 'loglogistic'],\n",
    "                    description='Dist. functions:',\n",
    "                    disabled=True,\n",
    "                    )\n",
    "        \n",
    "        # Save model button\n",
    "        self._bsm = widgets.Button(layout=widgets.Layout(width='500px',height='50px'))\n",
    "        self._bsm.description = 'Save Best Model'\n",
    "        self._bsm.icon = \"floppy-o\"\n",
    "        self._bsm.on_click(self.save_model_json)\n",
    "        self._bsm.disable = True\n",
    "        \n",
    "        # define layout\n",
    "        box_layout = widgets.Layout(display='center',\n",
    "                            flex_flow='row',\n",
    "                            align_items='center',\n",
    "                            border='None',\n",
    "                            justify_content='space-between',\n",
    "                            width='800px')\n",
    "        \n",
    "        self._box = widgets.Box(children=[self._bsf, self._blj, self._sdist, self._brd, self._bsm, self._blo ], layout=box_layout)\n",
    "        display(self._box)\n",
    "        display(self.out)\n",
    "        \n",
    "    def clear_output(self, b):\n",
    "        self.out.clear_output()\n",
    "        \n",
    "    def select_json(self,b): \n",
    "        # Create Tk root\n",
    "        root = Tk()\n",
    "        # Hide the main window\n",
    "        root.withdraw()\n",
    "        # Raise the root to the top of all windows.\n",
    "        root.call('wm', 'attributes', '.', '-topmost', True)\n",
    "        \n",
    "        new_file = filedialog.askopenfilename(multiple=True,filetypes = [(\"JSON\",'*.json')])\n",
    "        if new_file != \"\":\n",
    "            self._bsf.files = new_file\n",
    "\n",
    "        print('Selected file: {}'.format(self._bsf.files ))\n",
    "\n",
    "        self._bsf.description = \"Files Selected\"\n",
    "        self._bsf.icon = \"check-square-o\"\n",
    "        self._bsf.button_style = \"success\"\n",
    "        \n",
    "        self._blj.disabled = False\n",
    "        \n",
    "    def load_json(self, b):\n",
    "        \n",
    "        file_path = self._bsf.files\n",
    "        if (type(file_path) == list) and (len(file_path)>0):\n",
    "            with open(file_path[0], 'r') as f:\n",
    "                self._json_file = json.load(f)\n",
    "            \n",
    "            self._failure_mode = np.array(self._json_file['is_failure'])\n",
    "            self._ttf = np.array(self._json_file['ttf'])\n",
    "            self._client = self._json_file['client_name']\n",
    "            self._clientid = self._json_file['client_id']\n",
    "            self._symptom = self._json_file['symptom']\n",
    "                \n",
    "            self._sdist.disabled = False\n",
    "            self._brd.disabled = False\n",
    "            self._blj.button_style = \"success\"\n",
    "#             print('JSON loaded.')\n",
    "        else:\n",
    "            print('Select file.')\n",
    "            \n",
    "            \n",
    "    def save_model_json(self, b):\n",
    "        json_model = dict()\n",
    "        json_model['version'] = 0.1 \n",
    "        json_model['saved_time'] = str(datetime.datetime.now())\n",
    "        \n",
    "        if self._symptom is None:\n",
    "            json_model['symptom'] = None\n",
    "        elif isinstance(self._symptom, int):\n",
    "            json_model['symptom'] = int(self._symptom)\n",
    "        elif isinstance(self._symptom, list):\n",
    "            json_model['symptom'] = self._symptom\n",
    "        else:\n",
    "            raise TypeError('Undefined type for Symptom')\n",
    "            \n",
    "        json_model['client_id'] = int(self._clientid)\n",
    "        json_model['client_name'] = self._client\n",
    "        \n",
    "        json_model['input_json'] = os.path.splitext(os.path.basename(d._bsf.files[0]))[0]\n",
    "        json_model['competing_models'] = list(self._sdist.value)\n",
    "        \n",
    "        json_model['best_model'] = dict()\n",
    "        json_model['best_model']['law'] = self._combs[0].iloc[0].name\n",
    "        json_model['best_model']['MLE'] = dict()\n",
    "        json_model['best_model']['MLE']['params'] = self._res_mle[json_model['best_model']['law']]['params']\n",
    "        json_model['best_model']['MLE']['goodness_of_fit'] = self._res_mle[json_model['best_model']['law']]['goodness_of_fit']\n",
    "        \n",
    "        json_model['best_model']['LSQ'] = dict()\n",
    "        json_model['best_model']['LSQ']['params'] = self._res_ls[json_model['best_model']['law']]['params']\n",
    "        json_model['best_model']['LSQ']['goodness_of_fit'] = self._res_ls[json_model['best_model']['law']]['goodness_of_fit']\n",
    "                                \n",
    "        with open(\"../data/results/models/model_{}_{}.json\".format(json_model['input_json'],\n",
    "                                                           json_model['best_model']['law']), 'w') as f:\n",
    "            json.dump(json_model, f)\n",
    "        \n",
    "        self._bsm.button_style = 'success'\n",
    "    @out.capture(clear_output=True, wait = True)\n",
    "    def rank_distributions(self, b):\n",
    "        print('Ranking from Maximum Likelihood Estimation fitting:')\n",
    "        self._res_mle = di.rank_dist(self._ttf, method='MLE',\n",
    "                                     distributions=list(self._sdist.value))\n",
    "\n",
    "#         print('')\n",
    "#         print(self._res_mle)\n",
    "#         print('')\n",
    "\n",
    "        print('Ranking from Least Squares fitting:')\n",
    "        self._res_ls = di.rank_dist(self._ttf, method='lsq', \n",
    "                                    distributions=list(self._sdist.value))\n",
    "#         print(self._res_ls)\n",
    "#         print('')\n",
    "        print('Ranking from the combination of both methods:')\n",
    "        self._combs = di.combine_ranks(res_mle=self._res_mle, \n",
    "                                       res_ls=self._res_ls, display=True)\n",
    "        \n",
    "        di.plot_best(self._combs[0], self._ttf)\n",
    "        \n",
    "        self._brd.button_style = \"success\"\n",
    "        self._bsm.disabled = False\n",
    "        \n",
    "#         print(self._combs)"
   ]
  },
  {
   "cell_type": "markdown",
   "metadata": {
    "extensions": {
     "jupyter_dashboards": {
      "version": 1,
      "views": {
       "grid_default": {
        "col": 4,
        "height": 5,
        "hidden": false,
        "row": 0,
        "width": null
       },
       "report_default": {}
      }
     }
    }
   },
   "source": [
    "# Fitting distributions to reliability data (Life data)\n",
    "\n",
    "The database is one vector of \"Time to Failure\" values, given in periods of either seconds, minutes, hours, days, weeks, months, years. The found data-sets comprise hours of functioning which are $\\Delta t$ between system failure and previous repair. \n",
    "\n",
    "MTTF – Mean Time To Failure (TTF – time to fail) can be interpreted as the difference between the time of a failure and the time of putting the system at work after a repairing event, as depicted in the figure bellow.\n",
    "\n"
   ]
  },
  {
   "cell_type": "code",
   "execution_count": 8,
   "metadata": {
    "ExecuteTime": {
     "end_time": "2017-10-13T09:32:46.106976Z",
     "start_time": "2017-10-13T09:32:46.102362Z"
    },
    "extensions": {
     "jupyter_dashboards": {
      "version": 1,
      "views": {
       "grid_default": {
        "col": 0,
        "height": 11,
        "hidden": false,
        "row": 0,
        "width": 4
       },
       "report_default": {}
      }
     }
    },
    "scrolled": true
   },
   "outputs": [
    {
     "data": {
      "image/png": "[encoded data removed]",
      "text/plain": [
       "<IPython.core.display.Image object>"
      ]
     },
     "metadata": {
      "image/png": {
       "width": 500
      }
     },
     "output_type": "display_data"
    }
   ],
   "source": [
    "display(Image('../imgs/ttf_example.png', width=500))"
   ]
  },
  {
   "cell_type": "code",
   "execution_count": 9,
   "metadata": {
    "ExecuteTime": {
     "end_time": "2017-10-13T09:32:46.155098Z",
     "start_time": "2017-10-13T09:32:46.108946Z"
    },
    "scrolled": false
   },
   "outputs": [
    {
     "data": {
      "application/vnd.jupyter.widget-view+json": {
       "model_id": "4de109c329074f77acd94fc41a8f8dfd",
       "version_major": 2,
       "version_minor": 0
      },
      "text/plain": [
       "Box(children=(Button(description='Select File', icon='square-o', layout=Layout(height='50px', width='500px'), …"
      ]
     },
     "metadata": {},
     "output_type": "display_data"
    },
    {
     "data": {
      "application/vnd.jupyter.widget-view+json": {
       "model_id": "fdb4864560de45ed8cb44627c2af31bb",
       "version_major": 2,
       "version_minor": 0
      },
      "text/plain": [
       "Output()"
      ]
     },
     "metadata": {},
     "output_type": "display_data"
    },
    {
     "name": "stdout",
     "output_type": "stream",
     "text": [
      "Selected file: ['/home/emanuel/Desktop/Reliability-app/data/results/ttf/ttf_symptomNone_client5.json']\n"
     ]
    }
   ],
   "source": [
    "d = Display()"
   ]
  },
  {
   "cell_type": "markdown",
   "metadata": {
    "extensions": {
     "jupyter_dashboards": {
      "version": 1,
      "views": {
       "grid_default": {
        "col": 8,
        "height": 4,
        "hidden": false,
        "row": 5,
        "width": 4
       },
       "report_default": {}
      }
     }
    }
   },
   "source": [
    "### Data statistical summary:"
   ]
  },
  {
   "cell_type": "code",
   "execution_count": 12,
   "metadata": {
    "ExecuteTime": {
     "end_time": "2017-10-13T09:32:46.161841Z",
     "start_time": "2017-10-13T09:32:46.157091Z"
    },
    "extensions": {
     "jupyter_dashboards": {
      "version": 1,
      "views": {
       "grid_default": {
        "hidden": true
       },
       "report_default": {}
      }
     }
    }
   },
   "outputs": [],
   "source": [
    "perc = np.linspace(0,1-1e-3,10)\n",
    "perc = np.array([0.01,.1,1,2,3,4,5,6,7,8,9,10,20,30,40,50,60,70,80,85,90,95,99,99.9,99.99])/100"
   ]
  },
  {
   "cell_type": "code",
   "execution_count": 13,
   "metadata": {
    "ExecuteTime": {
     "end_time": "2017-10-13T09:32:46.169965Z",
     "start_time": "2017-10-13T09:32:46.164957Z"
    },
    "extensions": {
     "jupyter_dashboards": {
      "version": 1,
      "views": {
       "grid_default": {
        "hidden": true
       },
       "report_default": {}
      }
     }
    }
   },
   "outputs": [],
   "source": [
    "percentile = di.Weibull().ppf([0.71616389532044444, 15.357402922686479, 0.99850129555238953],perc)"
   ]
  },
  {
   "cell_type": "code",
   "execution_count": 14,
   "metadata": {
    "ExecuteTime": {
     "end_time": "2017-10-13T09:32:46.187442Z",
     "start_time": "2017-10-13T09:32:46.172001Z"
    },
    "extensions": {
     "jupyter_dashboards": {
      "version": 1,
      "views": {
       "grid_default": {
        "col": 8,
        "height": 29,
        "hidden": false,
        "row": 24,
        "width": 4
       },
       "report_default": {}
      }
     }
    }
   },
   "outputs": [
    {
     "data": {
      "text/html": [
       "<div>\n",
       "<style scoped>\n",
       "    .dataframe tbody tr th:only-of-type {\n",
       "        vertical-align: middle;\n",
       "    }\n",
       "\n",
       "    .dataframe tbody tr th {\n",
       "        vertical-align: top;\n",
       "    }\n",
       "\n",
       "    .dataframe thead th {\n",
       "        text-align: right;\n",
       "    }\n",
       "</style>\n",
       "<table border=\"1\" class=\"dataframe\">\n",
       "  <thead>\n",
       "    <tr style=\"text-align: right;\">\n",
       "      <th></th>\n",
       "      <th>BX%</th>\n",
       "      <th>Percentile (t)</th>\n",
       "    </tr>\n",
       "  </thead>\n",
       "  <tbody>\n",
       "    <tr>\n",
       "      <th>0</th>\n",
       "      <td>0.01</td>\n",
       "      <td>0.998541</td>\n",
       "    </tr>\n",
       "    <tr>\n",
       "      <th>1</th>\n",
       "      <td>0.10</td>\n",
       "      <td>0.999496</td>\n",
       "    </tr>\n",
       "    <tr>\n",
       "      <th>2</th>\n",
       "      <td>1.00</td>\n",
       "      <td>1.023430</td>\n",
       "    </tr>\n",
       "    <tr>\n",
       "      <th>3</th>\n",
       "      <td>2.00</td>\n",
       "      <td>1.064588</td>\n",
       "    </tr>\n",
       "    <tr>\n",
       "      <th>4</th>\n",
       "      <td>3.00</td>\n",
       "      <td>1.115745</td>\n",
       "    </tr>\n",
       "    <tr>\n",
       "      <th>5</th>\n",
       "      <td>4.00</td>\n",
       "      <td>1.174971</td>\n",
       "    </tr>\n",
       "    <tr>\n",
       "      <th>6</th>\n",
       "      <td>5.00</td>\n",
       "      <td>1.241240</td>\n",
       "    </tr>\n",
       "    <tr>\n",
       "      <th>7</th>\n",
       "      <td>6.00</td>\n",
       "      <td>1.313915</td>\n",
       "    </tr>\n",
       "    <tr>\n",
       "      <th>8</th>\n",
       "      <td>7.00</td>\n",
       "      <td>1.392565</td>\n",
       "    </tr>\n",
       "    <tr>\n",
       "      <th>9</th>\n",
       "      <td>8.00</td>\n",
       "      <td>1.476886</td>\n",
       "    </tr>\n",
       "    <tr>\n",
       "      <th>10</th>\n",
       "      <td>9.00</td>\n",
       "      <td>1.566658</td>\n",
       "    </tr>\n",
       "    <tr>\n",
       "      <th>11</th>\n",
       "      <td>10.00</td>\n",
       "      <td>1.661718</td>\n",
       "    </tr>\n",
       "    <tr>\n",
       "      <th>12</th>\n",
       "      <td>20.00</td>\n",
       "      <td>2.889658</td>\n",
       "    </tr>\n",
       "    <tr>\n",
       "      <th>13</th>\n",
       "      <td>30.00</td>\n",
       "      <td>4.638853</td>\n",
       "    </tr>\n",
       "    <tr>\n",
       "      <th>14</th>\n",
       "      <td>40.00</td>\n",
       "      <td>7.009832</td>\n",
       "    </tr>\n",
       "    <tr>\n",
       "      <th>15</th>\n",
       "      <td>50.00</td>\n",
       "      <td>10.204223</td>\n",
       "    </tr>\n",
       "    <tr>\n",
       "      <th>16</th>\n",
       "      <td>60.00</td>\n",
       "      <td>14.591140</td>\n",
       "    </tr>\n",
       "    <tr>\n",
       "      <th>17</th>\n",
       "      <td>70.00</td>\n",
       "      <td>20.899970</td>\n",
       "    </tr>\n",
       "    <tr>\n",
       "      <th>18</th>\n",
       "      <td>80.00</td>\n",
       "      <td>30.845652</td>\n",
       "    </tr>\n",
       "    <tr>\n",
       "      <th>19</th>\n",
       "      <td>85.00</td>\n",
       "      <td>38.550188</td>\n",
       "    </tr>\n",
       "    <tr>\n",
       "      <th>20</th>\n",
       "      <td>90.00</td>\n",
       "      <td>50.212634</td>\n",
       "    </tr>\n",
       "    <tr>\n",
       "      <th>21</th>\n",
       "      <td>95.00</td>\n",
       "      <td>72.066233</td>\n",
       "    </tr>\n",
       "    <tr>\n",
       "      <th>22</th>\n",
       "      <td>99.00</td>\n",
       "      <td>130.545268</td>\n",
       "    </tr>\n",
       "    <tr>\n",
       "      <th>23</th>\n",
       "      <td>99.90</td>\n",
       "      <td>229.194385</td>\n",
       "    </tr>\n",
       "    <tr>\n",
       "      <th>24</th>\n",
       "      <td>99.99</td>\n",
       "      <td>342.005518</td>\n",
       "    </tr>\n",
       "  </tbody>\n",
       "</table>\n",
       "</div>"
      ],
      "text/plain": [
       "      BX%  Percentile (t)\n",
       "0    0.01        0.998541\n",
       "1    0.10        0.999496\n",
       "2    1.00        1.023430\n",
       "3    2.00        1.064588\n",
       "4    3.00        1.115745\n",
       "5    4.00        1.174971\n",
       "6    5.00        1.241240\n",
       "7    6.00        1.313915\n",
       "8    7.00        1.392565\n",
       "9    8.00        1.476886\n",
       "10   9.00        1.566658\n",
       "11  10.00        1.661718\n",
       "12  20.00        2.889658\n",
       "13  30.00        4.638853\n",
       "14  40.00        7.009832\n",
       "15  50.00       10.204223\n",
       "16  60.00       14.591140\n",
       "17  70.00       20.899970\n",
       "18  80.00       30.845652\n",
       "19  85.00       38.550188\n",
       "20  90.00       50.212634\n",
       "21  95.00       72.066233\n",
       "22  99.00      130.545268\n",
       "23  99.90      229.194385\n",
       "24  99.99      342.005518"
      ]
     },
     "execution_count": 14,
     "metadata": {},
     "output_type": "execute_result"
    }
   ],
   "source": [
    "table_of_percentiles = pd.DataFrame({'BX%':perc*100,'Percentile (t)':percentile})\n",
    "table_of_percentiles"
   ]
  },
  {
   "cell_type": "code",
   "execution_count": 15,
   "metadata": {
    "ExecuteTime": {
     "end_time": "2017-10-13T09:32:46.728227Z",
     "start_time": "2017-10-13T09:32:46.189458Z"
    },
    "extensions": {
     "jupyter_dashboards": {
      "version": 1,
      "views": {
       "grid_default": {
        "col": 4,
        "height": 16,
        "hidden": false,
        "row": 32,
        "width": 4
       },
       "report_default": {}
      }
     }
    },
    "scrolled": true
   },
   "outputs": [
    {
     "data": {
      "text/plain": [
       "[<matplotlib.lines.Line2D at 0x7f6944400b70>]"
      ]
     },
     "execution_count": 15,
     "metadata": {},
     "output_type": "execute_result"
    },
    {
     "data": {
      "image/png": "[encoded data removed]",
      "text/plain": [
       "<Figure size 432x288 with 1 Axes>"
      ]
     },
     "metadata": {},
     "output_type": "display_data"
    }
   ],
   "source": [
    "fig, ax = plt.subplots()\n",
    "\n",
    "ax.semilogy(perc, percentile)"
   ]
  },
  {
   "cell_type": "code",
   "execution_count": 16,
   "metadata": {},
   "outputs": [
    {
     "data": {
      "text/plain": [
       "['',\n",
       " '/home/emanuel/spark-2.3.1-bin-hadoop2.7/python',\n",
       " '/home/emanuel/spark-2.3.1-bin-hadoop2.7/python/lib/py4j-0.10.4-src.zip',\n",
       " '/home/emanuel/Desktop/Reliability-app/notebooks',\n",
       " '/home/emanuel/anaconda3/lib/python36.zip',\n",
       " '/home/emanuel/anaconda3/lib/python3.6',\n",
       " '/home/emanuel/anaconda3/lib/python3.6/lib-dynload',\n",
       " '/home/emanuel/.local/lib/python3.6/site-packages',\n",
       " '/home/emanuel/anaconda3/lib/python3.6/site-packages',\n",
       " '/home/emanuel/anaconda3/lib/python3.6/site-packages/IPython/extensions',\n",
       " '/home/emanuel/.ipython',\n",
       " '..\\\\bin',\n",
       " '..Desktop\\\\bin',\n",
       " '..\\\\bin',\n",
       " '/home/emanuel/Desktop/Reliability-app/bin',\n",
       " '/home/emanuel/Desktop/Reliability-app/bin']"
      ]
     },
     "execution_count": 16,
     "metadata": {},
     "output_type": "execute_result"
    }
   ],
   "source": [
    "sys.path"
   ]
  },
  {
   "cell_type": "code",
   "execution_count": 12,
   "metadata": {},
   "outputs": [],
   "source": [
    "x = np.array(None)"
   ]
  },
  {
   "cell_type": "code",
   "execution_count": 13,
   "metadata": {},
   "outputs": [
    {
     "data": {
      "text/plain": [
       "array(None, dtype=object)"
      ]
     },
     "execution_count": 13,
     "metadata": {},
     "output_type": "execute_result"
    }
   ],
   "source": [
    "np.nan_to_num(x)"
   ]
  },
  {
   "cell_type": "code",
   "execution_count": null,
   "metadata": {},
   "outputs": [],
   "source": []
  }
 ],
 "metadata": {
  "extensions": {
   "jupyter_dashboards": {
    "activeView": "grid_default",
    "version": 1,
    "views": {
     "grid_default": {
      "cellMargin": 10,
      "defaultCellHeight": 20,
      "maxColumns": 12,
      "name": "grid",
      "type": "grid"
     },
     "report_default": {
      "name": "report",
      "type": "report"
     }
    }
   }
  },
  "hide_input": true,
  "kernelspec": {
   "display_name": "Python 3",
   "language": "python",
   "name": "python3"
  },
  "language_info": {
   "codemirror_mode": {
    "name": "ipython",
    "version": 3
   },
   "file_extension": ".py",
   "mimetype": "text/x-python",
   "name": "python",
   "nbconvert_exporter": "python",
   "pygments_lexer": "ipython3",
   "version": "3.6.5"
  },
  "varInspector": {
   "cols": {
    "lenName": 16,
    "lenType": 16,
    "lenVar": 40
   },
   "kernels_config": {
    "python": {
     "delete_cmd_postfix": "",
     "delete_cmd_prefix": "del ",
     "library": "var_list.py",
     "varRefreshCmd": "print(var_dic_list())"
    },
    "r": {
     "delete_cmd_postfix": ") ",
     "delete_cmd_prefix": "rm(",
     "library": "var_list.r",
     "varRefreshCmd": "cat(var_dic_list()) "
    }
   },
   "types_to_exclude": [
    "module",
    "function",
    "builtin_function_or_method",
    "instance",
    "_Feature"
   ],
   "window_display": false
  },
  "widgets": {
   "state": {
    "00c63ea3c88846468bb3e78ef2dd7836": {
     "views": [
      {
       "cell_index": 7
      }
     ]
    },
    "097c0e5ad5274ad591f008a131090561": {
     "views": [
      {
       "cell_index": 7
      }
     ]
    },
    "3969d54872a048a9b72be4c83e9dd4b4": {
     "views": [
      {
       "cell_index": 7
      }
     ]
    },
    "a16f03cb6a1144eeb7a73b9996ffaf33": {
     "views": [
      {
       "cell_index": 7
      }
     ]
    },
    "c2f095feaec34cdda4f43d00270371e3": {
     "views": [
      {
       "cell_index": 7
      }
     ]
    }
   },
   "version": "1.2.0"
  }
 },
 "nbformat": 4,
 "nbformat_minor": 2
}
