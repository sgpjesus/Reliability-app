{
 "cells": [
  {
   "cell_type": "markdown",
   "metadata": {},
   "source": [
    "# TODO\n",
    "* Understand the difference between this notebook copies and also the fit_distribution notebook\n",
    "* Comment and refactor the code"
   ]
  },
  {
   "cell_type": "code",
   "execution_count": null,
   "metadata": {
    "ExecuteTime": {
     "end_time": "2017-10-13T09:32:45.139696Z",
     "start_time": "2017-10-13T09:32:44.094360Z"
    },
    "extensions": {
     "jupyter_dashboards": {
      "version": 1,
      "views": {
       "grid_default": {
        "col": 0,
        "height": 4,
        "hidden": true,
        "row": 0,
        "width": 4
       },
       "report_default": {}
      }
     }
    }
   },
   "outputs": [],
   "source": [
    "\n",
    "import sys \n",
    "sys.path.append(r'..\\bin')\n",
    "import analytics_stat.distributions as di\n",
    "\n",
    "import warnings\n",
    "warnings.filterwarnings('ignore')\n",
    "\n",
    "import datetime\n",
    "import scipy.stats as s\n",
    "#import scipy.optimize as opt\n",
    "#import scipy.special as special\n",
    "import numpy as np\n",
    "import matplotlib.pyplot as plt\n",
    "import ipywidgets as widgets\n",
    "%matplotlib inline\n",
    "# %matplotlib notebook\n",
    "\n",
    "import os\n",
    "import json\n",
    "import pandas as pd\n",
    "import qgrid\n",
    "from IPython.display import HTML, Image, display, clear_output\n",
    "# display(HTML(\"<style>.container { width:95% !important; }</style>\"))\n",
    "\n",
    "# py.sign_in('diogo.antunes.goncalves', 'kt7T5JadNn2AhWk3DdPR')\n",
    "\n",
    "import plotly.offline as py\n",
    "import plotly.graph_objs as go\n",
    "py.init_notebook_mode(connected=True)\n",
    "\n",
    "display(HTML('''<script>\n",
    "code_show=false;\n",
    "function code_toggle() {\n",
    " if (code_show){\n",
    " $('div.input').hide();\n",
    " } else {\n",
    " $('div.input').show();\n",
    " }\n",
    " code_show = !code_show\n",
    "} \n",
    "$( document ).ready(code_toggle);\n",
    "</script>\n",
    "To hide/show code, click <a href=\"javascript:code_toggle()\">here</a>.''')) \n",
    "\n"
   ]
  },
  {
   "cell_type": "code",
   "execution_count": null,
   "metadata": {
    "ExecuteTime": {
     "end_time": "2017-10-13T09:32:46.101355Z",
     "start_time": "2017-10-13T09:32:45.141702Z"
    },
    "code_folding": []
   },
   "outputs": [],
   "source": [
    "import traitlets\n",
    "from tkinter import Tk, filedialog\n",
    "\n",
    "\n",
    "class Plotting:\n",
    "    \n",
    "    def __init__(self):\n",
    "        pass\n",
    "    \n",
    "    def plot_line(self, json, x, y, name):\n",
    "        x = json.x\n",
    "        y = json.y\n",
    "        name = json.name\n",
    "        trace_line = go.Scatter(x = x, y = y, mode = 'lines', opacity = 0.8, name = name, xaxis = 'x', yaxis = 'y')\n",
    "        \n",
    "    def plot_scatter(self,  x, y, name):\n",
    "        x = json.x\n",
    "        y = json.y\n",
    "        name = json.name\n",
    "        trace_scatter = go.Scatter(x = x, y = y, mode = 'markers', opacity = 0.8, name = fn, xaxis = 'x', yaxis = 'y')\n",
    "        \n",
    "    def plot_histogram(self,  x, name, normed):\n",
    "        x= json.x\n",
    "        normed = json.type  # 'probability'\n",
    "        trace_histogram = go.Histogram(x=x, histnorm=normed)\n",
    "                           \n",
    "    def create_layout(self, title, xlabel, ylabel):\n",
    "        title = json.title\n",
    "        xlabel = json.xlabel\n",
    "        ylabel = json.ylabel\n",
    "        layout = Layout(title=title, yaxis=dict(title=ylabel)) \n",
    "        \n",
    "    def draw(self,trace,layout):\n",
    "        fig = go.Figure(data = [trace_histogram],layout=layout)\n",
    "        py.iplot(fig)\n",
    "\n",
    "\n",
    "class StatPlot(Plotting):\n",
    "    \n",
    "    def __init__(self):\n",
    "        \n",
    "        pass\n",
    "    \n",
    "    def pdf(self, json):\n",
    "        \n",
    "        pdf_mle = dist_funs[dist_index[0]].pdf(params_dist_mle,  x_plot)\n",
    "\n",
    "\n",
    "\n",
    "class Display:\n",
    "    \n",
    "    def __init__(self):\n",
    "        \n",
    "        # Select file button\n",
    "        self._bsf = widgets.Button(layout=widgets.Layout(width='500px',height='50px'))\n",
    "        self._bsf.add_traits(files=traitlets.traitlets.List())\n",
    "        self._bsf.description = \"Select File\"\n",
    "        self._bsf.icon = \"square-o\"\n",
    "        self._bsf.on_click(self.select_json)\n",
    "        \n",
    "        \n",
    "        # Load Json button\n",
    "        self._blj = widgets.Button(layout=widgets.Layout(width='500px',height='50px'))\n",
    "        self._blj.description = \"Load File\"\n",
    "        self._blj.icon = 'download'\n",
    "        self._blj.on_click(self.load_json)\n",
    "        self._blj.disabled = True\n",
    "        \n",
    "        # Rank distributions button\n",
    "        self._brd = widgets.Button(layout=widgets.Layout(width='500px',height='50px'))\n",
    "        self._brd.description = 'Rank Distributions'\n",
    "        self._brd.icon = \"area-chart\"\n",
    "        self._brd.on_click(self.rank_distributions)\n",
    "        self._brd.disabled = True\n",
    "        \n",
    "        # Select distributions\n",
    "        self._sdist = widgets.SelectMultiple(\n",
    "                    options=['weibull3p', 'weibull2p', 'normal', 'lognormal',\n",
    "                  'exponential1p', 'exponential2p', 'logistic', 'loglogistic'],\n",
    "                    value=['weibull3p', 'weibull2p', 'normal', 'lognormal',\n",
    "                  'exponential1p', 'exponential2p', 'logistic', 'loglogistic'],\n",
    "                    description='Dist. functions:',\n",
    "                    disabled=True,\n",
    "                    \n",
    "                    )\n",
    "        \n",
    "        # Save model button\n",
    "        self._bsm = widgets.Button(layout=widgets.Layout(width='500px',height='50px'))\n",
    "        self._bsm.description = 'Save Best Model'\n",
    "        self._bsm.icon = \"floppy-o\"\n",
    "        self._bsm.on_click(self.save_model_json)\n",
    "        self._bsm.disable = True\n",
    "        \n",
    "        # define layout\n",
    "        box_layout = widgets.Layout(display='center',\n",
    "                            flex_flow='row',\n",
    "                            align_items='center',\n",
    "                            border='None',\n",
    "                            justify_content='space-between',\n",
    "                            width='800px')\n",
    "        \n",
    "        self._box = widgets.Box(children=[self._bsf, self._blj, self._sdist, self._brd, self._bsm], layout=box_layout)\n",
    "        display(self._box)\n",
    "        \n",
    "    def select_json(self,b): \n",
    "        # Create Tk root\n",
    "        root = Tk()\n",
    "        # Hide the main window\n",
    "        root.withdraw()\n",
    "        # Raise the root to the top of all windows.\n",
    "        root.call('wm', 'attributes', '.', '-topmost', True)\n",
    "        \n",
    "        new_file = filedialog.askopenfilename(multiple=True,filetypes = [(\"JSON\",'*.json')])\n",
    "        if new_file != \"\":\n",
    "            self._bsf.files = new_file\n",
    "\n",
    "        print('Selected file: {}'.format(self._bsf.files ))\n",
    "\n",
    "        self._bsf.description = \"Files Selected\"\n",
    "        self._bsf.icon = \"check-square-o\"\n",
    "        self._bsf.button_style = \"success\"\n",
    "        \n",
    "        self._blj.disabled = False\n",
    "\n",
    "        \n",
    "        \n",
    "    def load_json(self, b):\n",
    "        \n",
    "        file_path = self._bsf.files\n",
    "        if (type(file_path) == list) and (len(file_path)>0):\n",
    "            with open(file_path[0], 'r') as f:\n",
    "                self._json_file = json.load(f)\n",
    "                \n",
    "            self._ttf = np.array(self._json_file['ttf'])\n",
    "            self._client = self._json_file['client_name']\n",
    "            self._clientid = self._json_file['client_id']\n",
    "            self._symptom = self._json_file['symptom']\n",
    "                \n",
    "            self._sdist.disabled = False\n",
    "            self._brd.disabled = False\n",
    "            self._blj.button_style = \"success\"\n",
    "#             print('JSON loaded.')\n",
    "        else:\n",
    "            print('Select file.')\n",
    "            \n",
    "            \n",
    "    def save_model_json(self, b):\n",
    "        json_model = dict()\n",
    "        json_model['version'] = 0.1 \n",
    "        json_model['saved_time'] = str(datetime.datetime.now())\n",
    "        \n",
    "        if self._symptom is None:\n",
    "            json_model['symptom'] = None\n",
    "        elif isinstance(self._symptom, int):\n",
    "            json_model['symptom'] = int(self._symptom)\n",
    "        elif isinstance(self._symptom, list):\n",
    "            json_model['symptom'] = self._symptom\n",
    "        else:\n",
    "            raise TypeError('Undefined type for Symptom')\n",
    "            \n",
    "        json_model['client_id'] = int(self._clientid)\n",
    "        json_model['client_name'] = self._client\n",
    "        \n",
    "        json_model['input_json'] = os.path.splitext(os.path.basename(d._bsf.files[0]))[0]\n",
    "        json_model['competing_models'] = list(self._sdist.value)\n",
    "        \n",
    "        json_model['best_model'] = dict()\n",
    "        json_model['best_model']['law'] = self._combs[0].iloc[0].name\n",
    "        json_model['best_model']['MLE'] = dict()\n",
    "        json_model['best_model']['MLE']['params'] = self._res_mle[json_model['best_model']['law']]['params']\n",
    "        json_model['best_model']['MLE']['goodness_of_fit'] = self._res_mle[json_model['best_model']['law']]['goodness_of_fit']\n",
    "        \n",
    "        json_model['best_model']['LSQ'] = dict()\n",
    "        json_model['best_model']['LSQ']['params'] = self._res_ls[json_model['best_model']['law']]['params']\n",
    "        json_model['best_model']['LSQ']['goodness_of_fit'] = self._res_ls[json_model['best_model']['law']]['goodness_of_fit']\n",
    "                                \n",
    "        with open(\"../models/stat/model_{}_{}.json\".format(json_model['input_json'],\n",
    "                                                           json_model['best_model']['law']), 'w') as f:\n",
    "            json.dump(json_model, f)\n",
    "        \n",
    "        self._bsm.button_style = 'success'\n",
    "        \n",
    "        \n",
    "    def rank_distributions(self, b):\n",
    "        #print('Ranking from Maximum Likelihood Estimation fitting:')\n",
    "        self._res_mle = di.rank_dist(self._ttf, method='MLE',\n",
    "                                     distributions=list(self._sdist.value))\n",
    "\n",
    "#         print('')\n",
    "#         print(self._res_mle)\n",
    "#         print('')\n",
    "\n",
    "        #print('Ranking from Least Squares fitting:')\n",
    "        self._res_ls = di.rank_dist(self._ttf, method='lsq', \n",
    "                                    distributions=list(self._sdist.value))\n",
    "#         print(self._res_ls)\n",
    "#         print('')\n",
    "        #print('Ranking from the combination of both methods:')\n",
    "        self._combs = di.combine_ranks(res_mle=self._res_mle, \n",
    "                                       res_ls=self._res_ls, display=True)\n",
    "        \n",
    "        di.plot_best(self._combs[0], self._ttf)\n",
    "        \n",
    "        self._brd.button_style = \"success\"\n",
    "        self._bsm.disabled = False\n",
    "    \n",
    "#         print(self._combs)"
   ]
  },
  {
   "cell_type": "markdown",
   "metadata": {
    "extensions": {
     "jupyter_dashboards": {
      "version": 1,
      "views": {
       "grid_default": {
        "col": 4,
        "height": 5,
        "hidden": false,
        "row": 0,
        "width": null
       },
       "report_default": {}
      }
     }
    }
   },
   "source": [
    "# Fitting distributions to reliability data (Life data)\n",
    "\n",
    "The database is one vector of \"Time to Failure\" values, given in periods of either seconds, minutes, hours, days, weeks, months, years. The found data-sets comprise hours of functioning which are $\\Delta t$ between system failure and previous repair. \n",
    "\n",
    "MTTF – Mean Time To Failure (TTF – time to fail) can be interpreted as the difference between the time of a failure and the time of putting the system at work after a repairing event, as depicted in the figure bellow.\n",
    "\n"
   ]
  },
  {
   "cell_type": "code",
   "execution_count": null,
   "metadata": {
    "ExecuteTime": {
     "end_time": "2017-10-13T09:32:46.106976Z",
     "start_time": "2017-10-13T09:32:46.102362Z"
    },
    "extensions": {
     "jupyter_dashboards": {
      "version": 1,
      "views": {
       "grid_default": {
        "col": 0,
        "height": 11,
        "hidden": false,
        "row": 0,
        "width": 4
       },
       "report_default": {}
      }
     }
    }
   },
   "outputs": [],
   "source": [
    "display(Image('../imgs/ttf_example.png', width=500))"
   ]
  },
  {
   "cell_type": "code",
   "execution_count": null,
   "metadata": {
    "ExecuteTime": {
     "end_time": "2017-10-13T09:32:46.155098Z",
     "start_time": "2017-10-13T09:32:46.108946Z"
    },
    "scrolled": false
   },
   "outputs": [],
   "source": [
    "d = Display()"
   ]
  },
  {
   "cell_type": "code",
   "execution_count": null,
   "metadata": {},
   "outputs": [],
   "source": [
    "d._ttf"
   ]
  },
  {
   "cell_type": "code",
   "execution_count": null,
   "metadata": {},
   "outputs": [],
   "source": []
  }
 ],
 "metadata": {
  "extensions": {
   "jupyter_dashboards": {
    "activeView": "grid_default",
    "version": 1,
    "views": {
     "grid_default": {
      "cellMargin": 10,
      "defaultCellHeight": 20,
      "maxColumns": 12,
      "name": "grid",
      "type": "grid"
     },
     "report_default": {
      "name": "report",
      "type": "report"
     }
    }
   }
  },
  "hide_input": true,
  "kernelspec": {
   "display_name": "Python 3",
   "language": "python",
   "name": "python3"
  },
  "language_info": {
   "codemirror_mode": {
    "name": "ipython",
    "version": 3
   },
   "file_extension": ".py",
   "mimetype": "text/x-python",
   "name": "python",
   "nbconvert_exporter": "python",
   "pygments_lexer": "ipython3",
   "version": "3.6.6"
  },
  "varInspector": {
   "cols": {
    "lenName": 16,
    "lenType": 16,
    "lenVar": 40
   },
   "kernels_config": {
    "python": {
     "delete_cmd_postfix": "",
     "delete_cmd_prefix": "del ",
     "library": "var_list.py",
     "varRefreshCmd": "print(var_dic_list())"
    },
    "r": {
     "delete_cmd_postfix": ") ",
     "delete_cmd_prefix": "rm(",
     "library": "var_list.r",
     "varRefreshCmd": "cat(var_dic_list()) "
    }
   },
   "types_to_exclude": [
    "module",
    "function",
    "builtin_function_or_method",
    "instance",
    "_Feature"
   ],
   "window_display": false
  },
  "widgets": {
   "state": {
    "00c63ea3c88846468bb3e78ef2dd7836": {
     "views": [
      {
       "cell_index": 7
      }
     ]
    },
    "097c0e5ad5274ad591f008a131090561": {
     "views": [
      {
       "cell_index": 7
      }
     ]
    },
    "3969d54872a048a9b72be4c83e9dd4b4": {
     "views": [
      {
       "cell_index": 7
      }
     ]
    },
    "a16f03cb6a1144eeb7a73b9996ffaf33": {
     "views": [
      {
       "cell_index": 7
      }
     ]
    },
    "c2f095feaec34cdda4f43d00270371e3": {
     "views": [
      {
       "cell_index": 7
      }
     ]
    }
   },
   "version": "1.2.0"
  }
 },
 "nbformat": 4,
 "nbformat_minor": 2
}
