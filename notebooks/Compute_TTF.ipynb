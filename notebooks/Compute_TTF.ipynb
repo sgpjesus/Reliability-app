{
 "cells": [
  {
   "cell_type": "markdown",
   "metadata": {
    "extensions": {
     "jupyter_dashboards": {
      "version": 1,
      "views": {
       "grid_default": {
        "col": 4,
        "height": 4,
        "hidden": false,
        "row": 0,
        "width": 5
       },
       "report_default": {
        "hidden": false
       }
      }
     }
    }
   },
   "source": [
    "# Read data and calculate TTF for each failure mode\n",
    "\n"
   ]
  },
  {
   "cell_type": "code",
   "execution_count": null,
   "metadata": {
    "ExecuteTime": {
     "end_time": "2017-11-08T12:16:59.872647Z",
     "start_time": "2017-11-08T12:16:59.862089Z"
    },
    "extensions": {
     "jupyter_dashboards": {
      "version": 1,
      "views": {
       "grid_default": {
        "col": 0,
        "height": 4,
        "hidden": true,
        "row": 5,
        "width": 4
       },
       "report_default": {
        "hidden": false
       }
      }
     }
    }
   },
   "outputs": [],
   "source": [
    "%%html\n",
    "<script>\n",
    "code_show=false;\n",
    "function code_toggle() {\n",
    " if (code_show){\n",
    " $('div.input').hide();\n",
    " } else {\n",
    " $('div.input').show();\n",
    " }\n",
    " code_show = !code_show\n",
    "} \n",
    "$( document ).ready(code_toggle);\n",
    "</script>\n",
    "To hide/show code, click <a href=\"javascript:code_toggle()\">here</a>."
   ]
  },
  {
   "cell_type": "code",
   "execution_count": null,
   "metadata": {
    "ExecuteTime": {
     "end_time": "2017-11-08T12:17:01.106039Z",
     "start_time": "2017-11-08T12:16:59.874622Z"
    },
    "extensions": {
     "jupyter_dashboards": {
      "version": 1,
      "views": {
       "grid_default": {
        "hidden": true
       },
       "report_default": {
        "hidden": true
       }
      }
     }
    }
   },
   "outputs": [],
   "source": [
    "import sys\n",
    "sys.path.append(r'C:\\Users\\sergiojesus\\Desktop\\Diogo2017\\EQS_LOCAL\\Bitbucket_eqs')\n",
    "import analytics_stat.distributions as di\n",
    "import analytics_stat.db_mgmt as db\n",
    "import analytics_stat.extractor as extractor\n",
    "import pandas as pd\n",
    "import os\n",
    "from IPython.display import HTML, Image, display, clear_output\n",
    "import xlrd\n",
    "import psycopg2\n",
    "from sqlalchemy import create_engine, Column, Table, MetaData\n",
    "from sqlalchemy.sql import text\n",
    "import numpy as np\n",
    "from scipy import stats\n",
    "import re\n",
    "import time\n",
    "import ipywidgets as widgets\n",
    "import json\n",
    "import matplotlib.pyplot as plt\n",
    "%matplotlib inline"
   ]
  },
  {
   "cell_type": "code",
   "execution_count": null,
   "metadata": {
    "ExecuteTime": {
     "end_time": "2017-11-08T12:17:01.875073Z",
     "start_time": "2017-11-08T12:17:01.108037Z"
    },
    "extensions": {
     "jupyter_dashboards": {
      "version": 1,
      "views": {
       "grid_default": {
        "hidden": true
       },
       "report_default": {}
      }
     }
    }
   },
   "outputs": [],
   "source": [
    "def create_selector(wo_table):\n",
    "    \"\"\"\n",
    "    Given a dataframe, returns a display to select from different types of workorders with dropdowns\n",
    "    \"\"\"\n",
    "    wo_type_labels_nano = ['-','PRV','PRD','COR','INS',\n",
    "                           'CLN','LUB','MET','LAC','COM',\n",
    "                           'CON','GEN']\n",
    "    container= list()\n",
    "    type_selects = list()\n",
    "    \n",
    "    l = 0\n",
    "    for i, label in enumerate(wo_table['wo_type']):\n",
    "        l += 1\n",
    "        type_selects.append(widgets.Dropdown(\n",
    "                         options=wo_type_labels_nano,\n",
    "                         description=label,\n",
    "                         #value=wo_table.loc[i,'wo_type_nano'],\n",
    "                         disabled=False))\n",
    "        \n",
    "        if l == len(wo_table):  # number of columns\n",
    "            container.append(widgets.VBox(type_selects))\n",
    "            type_selects = list()\n",
    "            l=0\n",
    "\n",
    "    return container\n",
    "\n",
    "class work_orders:\n",
    "    def __init__(self):\n",
    "        self._clientid = None\n",
    "        self._symptom = None\n",
    "        self._select_wo = None\n",
    "        self._top_freq_wo = None\n",
    "        self._ttf = None\n",
    "        \n",
    "    def update_clientid(self,args):\n",
    "        clear_output()\n",
    "        print('Selected Client:\\t{}'.format(args['new']))\n",
    "    \n",
    "        if args['new']!='-':\n",
    "            self._clientid  = reliability_status.loc[reliability_status['name']==select_client.value, 'clientid'].values[0]\n",
    "            print('Client id:\\t\\t{}'.format(self._clientid))\n",
    "        else:\n",
    "            self._clientid  = None\n",
    "            print('Client id:\\t\\t{}'.format('-'))\n",
    "            \n",
    "    def update_symptom(self,args):\n",
    "        clear_output()\n",
    "        print('Selected Symptom:\\t{}'.format(args['new']))\n",
    "    \n",
    "        if args['new']!='All':\n",
    "            self._symptom  = reliability_status.loc[reliability_status['name']==select_client.value, 'clientid'].values[0]\n",
    "            print('Selected symptom:\\t\\t{}'.format(self._clientid))\n",
    "        else:\n",
    "            self._symptom  = None\n",
    "            print('Selected symptom:\\t\\t{}'.format('All'))\n",
    "            \n",
    "    def display_widgets(self, widget):\n",
    "        display(widget)\n",
    "        \n",
    "            \n",
    "    def config_wo(self,args):\n",
    "        print(self._clientid)\n",
    "        if self._clientid:\n",
    "            wo_header = pd.read_sql_query(\"\"\"SELECT  wo_header_short, wo_type, wo_type_nano \n",
    "                                        FROM reliability WHERE clientid = {}; \"\"\".format(self._clientid)\n",
    "                               , engine)\n",
    "            print(wo_header)\n",
    "            if wo_header['wo_type'].count()!=0:\n",
    "\n",
    "                # TODO: Normalize texts to be more efficient in the group by\n",
    "                self._top_freq_wo = wo_header.groupby(['wo_type','wo_header_short']).size() \\\n",
    "                                .to_frame('count_header').reset_index() \\\n",
    "                                .groupby(['wo_type','count_header'])['wo_header_short'].unique() \\\n",
    "                                .to_frame().reset_index() \\\n",
    "                                .sort_values('count_header', ascending=False) \\\n",
    "                                .drop_duplicates(subset='wo_type')\\\n",
    "                                .sort_values('wo_type')\\\n",
    "                                .reset_index()\n",
    "\n",
    "                display(self._top_freq_wo.iloc[:, 1:])\n",
    "\n",
    "                self._select_wo = widgets.HBox(create_selector(self._top_freq_wo),\n",
    "            #                      layout=widgets.Layout(width='50%', height='10px')\n",
    "                                 )\n",
    "                \n",
    "                self.display_widgets(self._select_wo)\n",
    "                \n",
    "            else:\n",
    "                print('Client has no WO types specified.')\n",
    "\n",
    "\n",
    "        elif self._clientid is None:\n",
    "            print('Please, select client.')\n",
    "            \n",
    "\n",
    "    def update_wo_call(self, update_wo_types):\n",
    "\n",
    "\n",
    "        if self._top_freq_wo is not None:\n",
    "            wo_type_labels = list(self._top_freq_wo['wo_type'].values)\n",
    "            query_labels = str()\n",
    "            for i,label in enumerate(wo_type_labels):\n",
    "                query_labels += \"WHEN wo_type IN ('{}') THEN '{}'\\n\".format(label,self._select_wo.children[0].children[i].value)\n",
    "\n",
    "            query_update_wo = \"\"\"UPDATE reliability \n",
    "               SET wo_type_nano = \n",
    "               CASE \n",
    "               {}\n",
    "               ELSE wo_type_nano \n",
    "               END;\"\"\".format(query_labels)\n",
    "\n",
    "    #         print(query_update_wo)\n",
    "\n",
    "            table_name = 'reliability'\n",
    "\n",
    "            exists=engine.execute(text(\"\"\"SELECT * FROM information_schema.tables WHERE table_name = '{}'\"\"\".format(table_name)).execution_options(autocommit=True)).fetchall()\n",
    "            if exists:\n",
    "                engine.execute(text(query_update_wo).execution_options(autocommit=True))\n",
    "                \n",
    "            print('changes were commited.')\n",
    "        else:\n",
    "            print('no changes.')\n",
    "            \n",
    "    def compute_ttf(self, args):\n",
    "        if self._clientid:\n",
    "            if self._symptom:\n",
    "                raw_data = pd.read_sql_query(\"\"\"SELECT * FROM reliability WHERE clientid = {} AND symptoms = {}; \"\"\".format(self._clientid), engine)\n",
    "            elif self._symptom is None:\n",
    "                raw_data = pd.read_sql_query(\"\"\"SELECT * FROM reliability WHERE clientid = {}; \"\"\".format(self._clientid), engine)\n",
    "\n",
    "            raw_data = raw_data.sort_values(by='wo_type_nano')\n",
    "            raw_data = raw_data.sort_values(by='wo_start_datetime')\n",
    "            try:\n",
    "                raw_data['TTR'] = (raw_data['wo_finish_datetime'] - raw_data['wo_start_datetime'])\n",
    "                raw_data['TTR (Days)'] = raw_data['TTR'].astype('timedelta64[D]')\n",
    "\n",
    "                #raw_data['TTF'] = raw_data.loc[(raw_data['Cl.']=='COR1'),'Inic.prog.'].sort_values().diff() - raw_data.loc[(raw_data['Cl.']=='COR1'),'TTR'].values\n",
    "                raw_data['TTF'] = raw_data.loc[raw_data['wo_type_nano']=='COR','wo_start_datetime'].sort_values().diff() - raw_data.loc[raw_data['wo_type_nano']=='COR','TTR'].values\n",
    "\n",
    "                raw_data['TTF (Days)'] = raw_data['TTF'].astype('timedelta64[D]')\n",
    "            except:\n",
    "                raw_data['TTF'] = raw_data.loc[raw_data['wo_type_nano']=='COR','wo_start_datetime'].sort_values().diff()\n",
    "\n",
    "                raw_data['TTF (Days)'] = raw_data['TTF'].astype('timedelta64[D]')\n",
    "\n",
    "            self._ttf = raw_data.loc[raw_data['TTF (Days)']>0,'TTF (Days)'].values\n",
    "            self._ttf  = self._ttf .ravel().astype(int)\n",
    "            print(pd.DataFrame(self._ttf).describe().transpose())\n",
    "            plt.hist(self._ttf)\n",
    "        \n",
    "            \n",
    "    def save_ttf(self, args):\n",
    "        if self._clientid:\n",
    "            if len(self._ttf)>=2:  # at lest two points\n",
    "                if self._symptom:\n",
    "                    np.savetxt(\"../data/results/ttf/ttf_symptom{}_client{}.csv\".format(self._symptom,self._clientid), self._ttf, delimiter=\",\")\n",
    "                elif self._symptom is None:\n",
    "                    np.savetxt(\"../data/results/ttf/ttf_symptomAll_client{}.csv\".format(self._symptom,self._clientid), self._ttf, delimiter=\",\")\n",
    "            else:\n",
    "                print('Please, compute ttf.')\n",
    "        \n",
    "        elif self._clientid is None:\n",
    "            print('Please, select client.')\n",
    "            \n",
    "    def save_json(self, args):\n",
    "        json_ttf = dict()\n",
    "        \n",
    "        if self._clientid:\n",
    "            if len(self._ttf)>=2:\n",
    "                if self._symptom:\n",
    "                    json_ttf['symptom'] = int(self._symptom)\n",
    "                elif self._symptom is None:\n",
    "                    json_ttf['symptom'] = None\n",
    "                \n",
    "                json_ttf['ttf'] = self._ttf.tolist()\n",
    "                json_ttf['client_id'] = int(self._clientid)\n",
    "                json_ttf['client_name'] = select_client.value\n",
    "                                \n",
    "                with open(\"../data/results/ttf/ttf_symptom{}_client{}.json\".format(json_ttf['symptom'],\n",
    "                                                                                   json_ttf['client_id']), 'w') as f:\n",
    "                    json.dump(json_ttf, f)\n",
    "                    \n",
    "                print('JSON saved.')\n",
    "                \n",
    "            else:\n",
    "                print('Please, compute ttf.')\n",
    "                \n",
    "        \n",
    "        elif self._clientid is None:\n",
    "            print('Please, select client.')    "
   ]
  },
  {
   "cell_type": "markdown",
   "metadata": {
    "extensions": {
     "jupyter_dashboards": {
      "version": 1,
      "views": {
       "grid_default": {
        "col": 2,
        "height": 4,
        "hidden": false,
        "row": 4,
        "width": 3
       },
       "report_default": {}
      }
     }
    }
   },
   "source": [
    "## Database connection"
   ]
  },
  {
   "cell_type": "code",
   "execution_count": null,
   "metadata": {
    "ExecuteTime": {
     "end_time": "2017-11-08T12:17:04.910271Z",
     "start_time": "2017-11-08T12:17:01.877578Z"
    },
    "extensions": {
     "jupyter_dashboards": {
      "version": 1,
      "views": {
       "grid_default": {
        "col": 4,
        "height": 4,
        "hidden": true,
        "row": 5,
        "width": 4
       },
       "report_default": {
        "hidden": false
       }
      }
     }
    }
   },
   "outputs": [],
   "source": [
    "engine = db.db_engine()\n",
    "\n",
    "meta = MetaData()\n",
    "meta.bind = engine\n",
    "meta.reflect()"
   ]
  },
  {
   "cell_type": "markdown",
   "metadata": {
    "extensions": {
     "jupyter_dashboards": {
      "version": 1,
      "views": {
       "grid_default": {
        "col": 1,
        "height": 4,
        "hidden": false,
        "row": 8,
        "width": 4
       },
       "report_default": {}
      }
     }
    }
   },
   "source": [
    "## Status of Reliability table"
   ]
  },
  {
   "cell_type": "code",
   "execution_count": null,
   "metadata": {
    "ExecuteTime": {
     "end_time": "2017-11-08T12:17:05.077359Z",
     "start_time": "2017-11-08T12:17:04.913801Z"
    },
    "extensions": {
     "jupyter_dashboards": {
      "version": 1,
      "views": {
       "grid_default": {
        "col": 1,
        "height": 8,
        "hidden": false,
        "row": 12,
        "width": 4
       },
       "report_default": {
        "hidden": false
       }
      }
     }
    }
   },
   "outputs": [],
   "source": [
    "# --------------------------#\n",
    "#     get clients data      #\n",
    "# ------------------------- #\n",
    "reliability_status = pd.read_sql_query(\"\"\"SELECT c.id as clientid, c.name, COALESCE( r.cnt, 0 ) AS n_rows\n",
    "                                    FROM clients c\n",
    "                                    LEFT JOIN \n",
    "                                    (SELECT clientid, COUNT(*) AS cnt FROM reliability GROUP BY clientid) r\n",
    "                                    ON r.clientid = c.id\n",
    "                                    ORDER BY n_rows DESC;\"\"\"\n",
    "                               , engine)\n",
    "display(reliability_status)"
   ]
  },
  {
   "cell_type": "markdown",
   "metadata": {
    "ExecuteTime": {
     "end_time": "2017-08-28T10:43:01.520106Z",
     "start_time": "2017-08-28T10:43:01.515093Z"
    },
    "extensions": {
     "jupyter_dashboards": {
      "version": 1,
      "views": {
       "grid_default": {
        "col": 8,
        "height": 2,
        "hidden": false,
        "row": 4,
        "width": 4
       },
       "report_default": {}
      }
     }
    }
   },
   "source": [
    "## Select client for analysis"
   ]
  },
  {
   "cell_type": "code",
   "execution_count": null,
   "metadata": {
    "ExecuteTime": {
     "end_time": "2017-11-08T12:17:05.112410Z",
     "start_time": "2017-11-08T12:17:05.079322Z"
    },
    "extensions": {
     "jupyter_dashboards": {
      "version": 1,
      "views": {
       "grid_default": {
        "col": 8,
        "height": 2,
        "hidden": false,
        "row": 6,
        "width": 4
       },
       "report_default": {
        "hidden": true
       }
      }
     }
    }
   },
   "outputs": [],
   "source": [
    "client_names = ['-'] + list(np.sort(reliability_status.loc[reliability_status['n_rows']>0,'name'].values))\n",
    "\n",
    "select_client = widgets.Dropdown(\n",
    "    options=client_names,\n",
    "    value= '-',\n",
    "    description='Client:',\n",
    "    continuous_update=True)\n",
    "\n",
    "\n",
    "button = widgets.Button(description=\"Configure WO\")\n",
    "#display(button)\n",
    "\n",
    "client = work_orders()\n",
    "\n",
    "button.on_click(client.config_wo)\n",
    "\n",
    "clients_mgmt = widgets.HBox([select_client])\n",
    "\n",
    "client_id = select_client.observe(client.update_clientid, 'value')\n",
    "\n",
    "display(clients_mgmt)"
   ]
  },
  {
   "cell_type": "markdown",
   "metadata": {
    "extensions": {
     "jupyter_dashboards": {
      "version": 1,
      "views": {
       "grid_default": {
        "col": 5,
        "height": 3,
        "hidden": false,
        "row": 4,
        "width": 3
       },
       "report_default": {}
      }
     }
    }
   },
   "source": [
    "## Configure Nano's Work Orders (WO) types"
   ]
  },
  {
   "cell_type": "code",
   "execution_count": null,
   "metadata": {
    "ExecuteTime": {
     "end_time": "2017-11-08T12:17:05.141495Z",
     "start_time": "2017-11-08T12:17:05.114415Z"
    },
    "extensions": {
     "jupyter_dashboards": {
      "version": 1,
      "views": {
       "grid_default": {
        "col": 5,
        "height": 8,
        "hidden": false,
        "row": 7,
        "width": 3
       },
       "report_default": {
        "hidden": false
       }
      }
     }
    },
    "scrolled": false
   },
   "outputs": [],
   "source": [
    "button = widgets.Button(description=\"Configure WO\",\n",
    "                        layout=widgets.Layout(width='95px', \n",
    "                                              height='60px'))\n",
    "\n",
    "button.on_click(client.config_wo)\n",
    "\n",
    "display(button)\n",
    "\n",
    "\n",
    "update_wo_types = widgets.Button(description='Update all\\nWO types',\n",
    "                                 layout=widgets.Layout(width='200px', \n",
    "                                                       height='80px'))\n",
    "display(update_wo_types)\n",
    "    \n",
    "update_wo_types.on_click(client.update_wo_call,)"
   ]
  },
  {
   "cell_type": "markdown",
   "metadata": {},
   "source": [
    "## Compute Time To Fail"
   ]
  },
  {
   "cell_type": "code",
   "execution_count": null,
   "metadata": {
    "ExecuteTime": {
     "end_time": "2017-11-08T12:17:05.161540Z",
     "start_time": "2017-11-08T12:17:05.143494Z"
    },
    "extensions": {
     "jupyter_dashboards": {
      "version": 1,
      "views": {
       "grid_default": {
        "col": 8,
        "height": 4,
        "hidden": false,
        "row": 8,
        "width": 4
       },
       "report_default": {}
      }
     }
    }
   },
   "outputs": [],
   "source": [
    "compute_ttf = widgets.Button(description='Compute TTF',\n",
    "                             layout=widgets.Layout(width='95px', \n",
    "                                                   height='60px'))\n",
    "display(compute_ttf)\n",
    "    \n",
    "compute_ttf.on_click(client.compute_ttf,)"
   ]
  },
  {
   "cell_type": "code",
   "execution_count": null,
   "metadata": {
    "ExecuteTime": {
     "end_time": "2017-11-08T12:17:05.180090Z",
     "start_time": "2017-11-08T12:17:05.163556Z"
    }
   },
   "outputs": [],
   "source": [
    "save_ttf = widgets.Button(description='Save TTF',\n",
    "                                 layout=widgets.Layout(width='95px', \n",
    "                                                       height='60px'))\n",
    "display(save_ttf)\n",
    "    \n",
    "save_ttf.on_click(client.save_json,)"
   ]
  },
  {
   "cell_type": "code",
   "execution_count": null,
   "metadata": {},
   "outputs": [],
   "source": [
    "print(client._ttf)"
   ]
  },
  {
   "cell_type": "code",
   "execution_count": null,
   "metadata": {},
   "outputs": [],
   "source": []
  }
 ],
 "metadata": {
  "extensions": {
   "jupyter_dashboards": {
    "activeView": "grid_default",
    "version": 1,
    "views": {
     "grid_default": {
      "cellMargin": 10,
      "defaultCellHeight": 20,
      "maxColumns": 12,
      "name": "grid",
      "type": "grid"
     },
     "report_default": {
      "name": "report",
      "type": "report"
     }
    }
   }
  },
  "hide_input": true,
  "kernelspec": {
   "display_name": "Python 3",
   "language": "python",
   "name": "python3"
  },
  "language_info": {
   "codemirror_mode": {
    "name": "ipython",
    "version": 3
   },
   "file_extension": ".py",
   "mimetype": "text/x-python",
   "name": "python",
   "nbconvert_exporter": "python",
   "pygments_lexer": "ipython3",
   "version": "3.6.6"
  },
  "varInspector": {
   "cols": {
    "lenName": 16,
    "lenType": 16,
    "lenVar": 40
   },
   "kernels_config": {
    "python": {
     "delete_cmd_postfix": "",
     "delete_cmd_prefix": "del ",
     "library": "var_list.py",
     "varRefreshCmd": "print(var_dic_list())"
    },
    "r": {
     "delete_cmd_postfix": ") ",
     "delete_cmd_prefix": "rm(",
     "library": "var_list.r",
     "varRefreshCmd": "cat(var_dic_list()) "
    }
   },
   "position": {
    "height": "145px",
    "left": "1294px",
    "right": "36px",
    "top": "136px",
    "width": "350px"
   },
   "types_to_exclude": [
    "module",
    "function",
    "builtin_function_or_method",
    "instance",
    "_Feature"
   ],
   "window_display": false
  }
 },
 "nbformat": 4,
 "nbformat_minor": 2
}
