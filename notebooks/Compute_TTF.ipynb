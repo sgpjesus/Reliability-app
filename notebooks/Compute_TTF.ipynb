{
 "cells": [
  {
   "cell_type": "markdown",
   "metadata": {},
   "source": [
    "# TODO\n",
    "* ~~Create a filter for equipments, adding to wo_type and clientid~~\n",
    "* Change times, complete and incomplete\n",
    "* Comment and attempt to refactor"
   ]
  },
  {
   "cell_type": "markdown",
   "metadata": {
    "extensions": {
     "jupyter_dashboards": {
      "version": 1,
      "views": {
       "grid_default": {
        "col": 4,
        "height": 4,
        "hidden": false,
        "row": 0,
        "width": 5
       },
       "report_default": {
        "hidden": false
       }
      }
     }
    }
   },
   "source": [
    "# Read data and calculate TTF for each failure mode\n",
    "\n"
   ]
  },
  {
   "cell_type": "code",
   "execution_count": null,
   "metadata": {
    "ExecuteTime": {
     "end_time": "2017-11-08T12:16:59.872647Z",
     "start_time": "2017-11-08T12:16:59.862089Z"
    },
    "extensions": {
     "jupyter_dashboards": {
      "version": 1,
      "views": {
       "grid_default": {
        "col": 0,
        "height": 4,
        "hidden": true,
        "row": 5,
        "width": 4
       },
       "report_default": {
        "hidden": false
       }
      }
     }
    },
    "scrolled": true
   },
   "outputs": [],
   "source": [
    "%%html\n",
    "<script>\n",
    "code_show=true;\n",
    "function code_toggle() {\n",
    " if (code_show){\n",
    " $('div.input').hide();\n",
    " } else {\n",
    " $('div.input').show();\n",
    " }\n",
    " code_show = !code_show\n",
    "} \n",
    "$( document ).ready(code_toggle);\n",
    "</script>\n",
    "To hide/show code, click <a href=\"javascript:code_toggle()\">here</a>.\n"
   ]
  },
  {
   "cell_type": "code",
   "execution_count": null,
   "metadata": {
    "ExecuteTime": {
     "end_time": "2017-11-08T12:17:01.106039Z",
     "start_time": "2017-11-08T12:16:59.874622Z"
    },
    "extensions": {
     "jupyter_dashboards": {
      "version": 1,
      "views": {
       "grid_default": {
        "hidden": true
       },
       "report_default": {
        "hidden": true
       }
      }
     }
    }
   },
   "outputs": [],
   "source": [
    "import sys\n",
    "sys.path.append(r'..\\bin')\n",
    "import pandas as pd\n",
    "import numpy as np\n",
    "import ipywidgets as widgets\n",
    "import json\n",
    "import matplotlib.pyplot as plt\n",
    "\n",
    "from IPython.display import HTML, Image, display, clear_output\n",
    "from sqlalchemy import MetaData\n",
    "from sqlalchemy.sql import text\n",
    "\n",
    "import analytics_stat.db_mgmt as db\n",
    "\n",
    "%matplotlib inline\n"
   ]
  },
  {
   "cell_type": "code",
   "execution_count": null,
   "metadata": {},
   "outputs": [],
   "source": [
    "def create_selector(wo_table):\n",
    "    \"\"\"\n",
    "    Given a dataframe, returns a display to select from different types of workorders with dropdowns\n",
    "    \"\"\"\n",
    "    \n",
    "    wo_type_labels_nano = ['-', 'PRV', 'PRD', 'COR', 'INS', 'CLN', 'LUB', 'MET', 'LAC', 'COM', 'CON', 'GEN']\n",
    "    container = list()  # Container of the VBox\n",
    "    dropdown_selectors = list()  # Dropdown list\n",
    "    \n",
    "\n",
    "    for i, label in enumerate(wo_table['wo_type']):\n",
    "        dropdown_selectors.append(widgets.Dropdown(options=wo_type_labels_nano, description=label, disabled=False))\n",
    "        \n",
    "    container.append(widgets.VBox(dropdown_selectors))\n",
    "    type_selects = list()\n",
    "\n",
    "    return container"
   ]
  },
  {
   "cell_type": "code",
   "execution_count": null,
   "metadata": {
    "ExecuteTime": {
     "end_time": "2017-11-08T12:17:01.875073Z",
     "start_time": "2017-11-08T12:17:01.108037Z"
    },
    "extensions": {
     "jupyter_dashboards": {
      "version": 1,
      "views": {
       "grid_default": {
        "hidden": true
       },
       "report_default": {}
      }
     }
    }
   },
   "outputs": [],
   "source": [
    "class work_orders:\n",
    "    \n",
    "    def __init__(self):\n",
    "        \n",
    "        self._reliability_table_status = None\n",
    "        self._clientid = None\n",
    "        self._symptom = None\n",
    "        self._select_wo = None\n",
    "        self._top_freq_wo = None\n",
    "        self._ttf = None\n",
    "        self._raw_data = None\n",
    "        \n",
    "        self._dropdown_client = widgets.Dropdown(value= '-', description='Client:', options=['-'],\n",
    "                                                 continuous_update=True)\n",
    "        self._dropdown_client.disabled = False\n",
    "        self._dropdown_client.observe(self.update_clientid, 'value')\n",
    "        \n",
    "        self._dropdown_equipment = widgets.Dropdown(value= '-', description='Equipment:', options=['-'],\n",
    "                                                    continuous_update=True)\n",
    "        self._dropdown_equipment.disabled = True\n",
    "        self._dropdown_equipment.observe(self.update_equipment, 'value')\n",
    "        \n",
    "        self._commit_button = widgets.Button(description='Update all\\nWO types',\n",
    "                                             layout=widgets.Layout(width='200px', \n",
    "                                                                   height='80px'))\n",
    "        self._commit_button.on_click(self.update_wo_call,)"
   ]
  },
  {
   "cell_type": "code",
   "execution_count": null,
   "metadata": {},
   "outputs": [],
   "source": [
    "def read_reliability_table_status(self):\n",
    "    # Read the table from a query\n",
    "    resulting_table = pd.read_sql_query(\"\"\"SELECT c.id as clientid, c.name, COALESCE( r.cnt, 0 ) AS n_rows\n",
    "                                    FROM clients c\n",
    "                                    LEFT JOIN \n",
    "                                    (SELECT clientid, COUNT(*) AS cnt FROM reliability GROUP BY clientid) r\n",
    "                                    ON r.clientid = c.id\n",
    "                                    ORDER BY n_rows DESC;\"\"\"\n",
    "                                    , engine)\n",
    "    \n",
    "    self._reliability_table_status = resulting_table\n",
    "    \n",
    "    display(self._reliability_table_status)\n",
    "    \n",
    "    # Create the options for the client selection list\n",
    "    self._client_names = ['-'] + list(np.sort(\n",
    "        self._reliability_table_status.loc[self._reliability_table_status['n_rows']>0,'name'].values)) \n",
    "    self._dropdown_client.options = self._client_names"
   ]
  },
  {
   "cell_type": "code",
   "execution_count": null,
   "metadata": {},
   "outputs": [],
   "source": [
    "def iniciate_client_choise(self):\n",
    "    display(self._dropdown_client)"
   ]
  },
  {
   "cell_type": "code",
   "execution_count": null,
   "metadata": {},
   "outputs": [],
   "source": [
    "def update_clientid(self,args):\n",
    "    \n",
    "    clear_output() # Makes display disappear\n",
    "    \n",
    "    print('Selected Client:\\t{}'.format(self._dropdown_client.value))\n",
    "    # if the value is chosen     \n",
    "    if self._dropdown_client.value != '-':\n",
    "          \n",
    "        self._clientid  = self._reliability_table_status.loc[self._reliability_table_status['name'] == \n",
    "                                                             self._dropdown_client.value\n",
    "                                                             ,'clientid'].values[0]\n",
    "        \n",
    "        print('Client id:\\t\\t{}'.format(self._clientid))\n",
    "          \n",
    "        self._dropdown_equipment.disabled = False\n",
    "        \n",
    "        wo_header = pd.read_sql_query(\"\"\"SELECT  wo_header_short, wo_type, wo_type_nano, eq_id \n",
    "                                        FROM reliability WHERE clientid = {}; \"\"\".format(self._clientid), engine)\n",
    "        \n",
    "        self._dropdown_equipment.options = ['-'] + list(set(wo_header['eq_id'].values))\n",
    "        display(self._dropdown_equipment)\n",
    "            \n",
    "    else:\n",
    "        self._clientid  = None\n",
    "        print('Client id:\\t\\t{}'.format('-'))    "
   ]
  },
  {
   "cell_type": "code",
   "execution_count": null,
   "metadata": {},
   "outputs": [],
   "source": [
    "def update_equipment(self, args):\n",
    "    \n",
    "    self._equipment = self._dropdown_equipment.value\n",
    "    clear_output()\n",
    "    print('Selected Client:\\t{}'.format(self._dropdown_client.value))\n",
    "    print('Client id:\\t\\t{}'.format(self._clientid))\n",
    "    print('Equipment:\\t\\t{}'.format(self._equipment))\n",
    "    self.config_wo(0)"
   ]
  },
  {
   "cell_type": "code",
   "execution_count": null,
   "metadata": {},
   "outputs": [],
   "source": [
    "# def update_symptom(self,args):\n",
    "#     clear_output()\n",
    "#     print('Selected Symptom:\\t{}'.format(args['new']))\n",
    "    \n",
    "#     if args['new']!='All':\n",
    "#         self._symptom  = reliability_status.loc[reliability_status['name']==select_client.value, 'clientid'].values[0]\n",
    "#         print('Selected symptom:\\t\\t{}'.format(self._clientid))\n",
    "#     else:\n",
    "#         self._symptom  = None\n",
    "#         print('Selected symptom:\\t\\t{}'.format('All'))"
   ]
  },
  {
   "cell_type": "code",
   "execution_count": null,
   "metadata": {},
   "outputs": [],
   "source": [
    "def config_wo(self,args):\n",
    "\n",
    "    if self._clientid and self._equipment:\n",
    "        wo_header = pd.read_sql_query(\"\"\"SELECT  wo_header_short, wo_type, wo_type_nano \n",
    "                                      FROM reliability WHERE clientid = {} AND eq_id = '{}'; \"\"\".format(self._clientid, self._equipment)\n",
    "                                      , engine)\n",
    "        self._test_variable = wo_header\n",
    "        if wo_header['wo_type'].count() != 0 :\n",
    "\n",
    "            # TODO: Normalize texts to be more efficient in the group by\n",
    "            self._top_freq_wo = wo_header.groupby(['wo_type','wo_header_short']).size() \\\n",
    "                                .to_frame('count_header').reset_index() \\\n",
    "                                .groupby(['wo_type','count_header'])['wo_header_short'].unique() \\\n",
    "                                .to_frame().reset_index() \\\n",
    "                                .sort_values('count_header', ascending=False) \\\n",
    "                                .drop_duplicates(subset='wo_type')\\\n",
    "                                .sort_values('wo_type')\\\n",
    "                                .reset_index()\n",
    "\n",
    "            display(self._top_freq_wo.iloc[:, 1:])\n",
    "\n",
    "            self._select_wo = widgets.HBox(create_selector(self._top_freq_wo),\n",
    "            #                      layout=widgets.Layout(width='50%', height='10px')\n",
    "                                 )\n",
    "                \n",
    "            display(self._select_wo)\n",
    "            display(self._commit_button)\n",
    "        else:\n",
    "            print('Client has no WO types specified.')\n",
    "\n",
    "\n",
    "    elif self._clientid is None:\n",
    "        print('Please, select client.')"
   ]
  },
  {
   "cell_type": "code",
   "execution_count": null,
   "metadata": {},
   "outputs": [],
   "source": [
    "def update_wo_call(self, args):\n",
    "    if self._top_freq_wo is not None:\n",
    "        wo_type_labels = list(self._top_freq_wo['wo_type'].values)\n",
    "        query_labels = str()\n",
    "        for i,label in enumerate(self._select_wo.children[0].children):\n",
    "            query_labels += \"WHEN wo_type = '{}' AND clientid = {} AND eq_id = '{}' THEN '{}'\\n\".format(label.description, self._clientid, self._equipment, label.value)\n",
    "\n",
    "        query_update_wo = \"\"\"UPDATE reliability \n",
    "               SET wo_type_nano = \n",
    "               CASE \n",
    "               {}\n",
    "               ELSE wo_type_nano \n",
    "               END;\"\"\".format(query_labels)\n",
    "\n",
    "        table_name = 'reliability'\n",
    "\n",
    "        exists=engine.execute(text(\"\"\"SELECT * FROM information_schema.tables WHERE table_name = '{}'\"\"\".format(table_name)).execution_options(autocommit=True)).fetchall()\n",
    "        if exists:\n",
    "            engine.execute(text(query_update_wo).execution_options(autocommit=True))\n",
    "                \n",
    "        print('changes were commited.')\n",
    "    else:\n",
    "        print('no changes.')"
   ]
  },
  {
   "cell_type": "code",
   "execution_count": null,
   "metadata": {},
   "outputs": [],
   "source": [
    "def compute_ttf(self, args):\n",
    "    if self._clientid:\n",
    "        if self._symptom:\n",
    "            raw_data = pd.read_sql_query(\"\"\"SELECT * FROM reliability WHERE clientid = {} AND symptoms = {}; \"\"\".format(self._clientid), engine)\n",
    "        elif self._symptom is None:\n",
    "            raw_data = pd.read_sql_query(\"\"\"SELECT * FROM reliability WHERE clientid = {} AND eq_id = '{}'; \"\"\".format(self._clientid, self._equipment), engine)\n",
    "\n",
    "        raw_data = raw_data.sort_values(by='wo_type_nano')\n",
    "        raw_data = raw_data.sort_values(by='wo_start_datetime')\n",
    "        try:\n",
    "            raw_data['TTR'] = (raw_data['wo_finish_datetime'] - raw_data['wo_start_datetime'])\n",
    "            raw_data['TTR (Days)'] = raw_data['TTR'].astype('timedelta64[D]')\n",
    "\n",
    "            \n",
    "            raw_data['TTF'] = raw_data.loc['wo_start_datetime'].sort_values().diff() - raw_data.loc['TTR'].values\n",
    "\n",
    "            raw_data['TTF (Days)'] = raw_data['TTF'].astype('timedelta64[D]')\n",
    "        except:\n",
    "            raw_data['TTF'] = raw_data['wo_start_datetime'].sort_values().diff()\n",
    "            \n",
    "            raw_data['TTF (Days)'] = raw_data['TTF'].astype('timedelta64[D]')  \n",
    "        self._type_of_order = [1 if element == \"COR\" else 0 for element in raw_data['wo_type_nano'] ]        \n",
    "        self._ttf = raw_data.loc[raw_data['TTF (Days)']>=0,'TTF (Days)'].values\n",
    "        self._ttf  = self._ttf .ravel().astype(int)\n",
    "        print(pd.DataFrame(self._ttf).describe().transpose())\n",
    "        plt.hist(self._ttf)\n",
    "\n",
    "    self.raw_data = raw_data"
   ]
  },
  {
   "cell_type": "code",
   "execution_count": null,
   "metadata": {},
   "outputs": [],
   "source": [
    "def save_ttf(self, args):\n",
    "    if self._clientid:\n",
    "        if len(self._ttf)>=2:  # at lest two points\n",
    "            if self._symptom:\n",
    "                np.savetxt(\"../data/results/ttf/ttf_symptom{}_client{}.csv\".format(self._symptom,self._clientid), self._ttf, delimiter=\",\")\n",
    "            elif self._symptom is None:\n",
    "                np.savetxt(\"../data/results/ttf/ttf_symptomAll_client{}.csv\".format(self._symptom,self._clientid), self._ttf, delimiter=\",\")\n",
    "        else:\n",
    "            print('Please, compute ttf.')\n",
    "        \n",
    "    elif self._clientid is None:\n",
    "        print('Please, select client.')"
   ]
  },
  {
   "cell_type": "code",
   "execution_count": null,
   "metadata": {},
   "outputs": [],
   "source": [
    "def save_json(self, args):\n",
    "    json_ttf = dict()\n",
    "        \n",
    "    if self._clientid:\n",
    "        if len(self._ttf)>=2:\n",
    "            if self._symptom:\n",
    "                json_ttf['symptom'] = int(self._symptom)\n",
    "            elif self._symptom is None:\n",
    "                json_ttf['symptom'] = None\n",
    "                \n",
    "            json_ttf['ttf'] = self._ttf.tolist()\n",
    "            json_ttf['is_failure'] = self._type_of_order\n",
    "            json_ttf['client_id'] = int(self._clientid)\n",
    "            json_ttf['client_name'] = self._dropdown_client.value\n",
    "                                \n",
    "            with open(\"../data/results/ttf/ttf_symptom{}_client{}.json\".format(json_ttf['symptom'],\n",
    "                                                                                   json_ttf['client_id']), 'w') as f:\n",
    "                json.dump(json_ttf, f)\n",
    "                    \n",
    "            print('JSON saved.')\n",
    "                \n",
    "        else:\n",
    "            print('Please, compute ttf.')\n",
    "                \n",
    "        \n",
    "    elif self._clientid is None:\n",
    "        print('Please, select client.')    "
   ]
  },
  {
   "cell_type": "code",
   "execution_count": null,
   "metadata": {},
   "outputs": [],
   "source": [
    "work_orders.read_reliability_table_status = read_reliability_table_status\n",
    "work_orders.iniciate_client_choise = iniciate_client_choise\n",
    "work_orders.update_clientid = update_clientid\n",
    "work_orders.update_equipment = update_equipment\n",
    "#work_orders.update_symptom = update_symptom\n",
    "work_orders.config_wo = config_wo\n",
    "work_orders.update_wo_call = update_wo_call\n",
    "work_orders.compute_ttf = compute_ttf\n",
    "work_orders.save_ttf = save_ttf\n",
    "work_orders.save_json = save_json"
   ]
  },
  {
   "cell_type": "markdown",
   "metadata": {
    "extensions": {
     "jupyter_dashboards": {
      "version": 1,
      "views": {
       "grid_default": {
        "col": 2,
        "height": 4,
        "hidden": false,
        "row": 4,
        "width": 3
       },
       "report_default": {}
      }
     }
    }
   },
   "source": [
    "## Database connection"
   ]
  },
  {
   "cell_type": "code",
   "execution_count": null,
   "metadata": {
    "ExecuteTime": {
     "end_time": "2017-11-08T12:17:04.910271Z",
     "start_time": "2017-11-08T12:17:01.877578Z"
    },
    "extensions": {
     "jupyter_dashboards": {
      "version": 1,
      "views": {
       "grid_default": {
        "col": 4,
        "height": 4,
        "hidden": true,
        "row": 5,
        "width": 4
       },
       "report_default": {
        "hidden": false
       }
      }
     }
    }
   },
   "outputs": [],
   "source": [
    "engine = db.db_engine()\n",
    "\n",
    "meta = MetaData()\n",
    "meta.bind = engine\n",
    "meta.reflect()"
   ]
  },
  {
   "cell_type": "markdown",
   "metadata": {
    "extensions": {
     "jupyter_dashboards": {
      "version": 1,
      "views": {
       "grid_default": {
        "col": 1,
        "height": 4,
        "hidden": false,
        "row": 8,
        "width": 4
       },
       "report_default": {}
      }
     }
    }
   },
   "source": [
    "## Status of Reliability table"
   ]
  },
  {
   "cell_type": "code",
   "execution_count": null,
   "metadata": {
    "ExecuteTime": {
     "end_time": "2017-11-08T12:17:05.077359Z",
     "start_time": "2017-11-08T12:17:04.913801Z"
    },
    "extensions": {
     "jupyter_dashboards": {
      "version": 1,
      "views": {
       "grid_default": {
        "col": 1,
        "height": 8,
        "hidden": false,
        "row": 12,
        "width": 4
       },
       "report_default": {
        "hidden": false
       }
      }
     }
    }
   },
   "outputs": [],
   "source": [
    "main_hub = work_orders()\n",
    "main_hub.read_reliability_table_status()"
   ]
  },
  {
   "cell_type": "markdown",
   "metadata": {
    "ExecuteTime": {
     "end_time": "2017-08-28T10:43:01.520106Z",
     "start_time": "2017-08-28T10:43:01.515093Z"
    },
    "extensions": {
     "jupyter_dashboards": {
      "version": 1,
      "views": {
       "grid_default": {
        "col": 8,
        "height": 2,
        "hidden": false,
        "row": 4,
        "width": 4
       },
       "report_default": {}
      }
     }
    }
   },
   "source": [
    "## Configure Nano's Work Orders (WO) types"
   ]
  },
  {
   "cell_type": "code",
   "execution_count": null,
   "metadata": {
    "scrolled": false
   },
   "outputs": [],
   "source": [
    "main_hub.iniciate_client_choise()"
   ]
  },
  {
   "cell_type": "code",
   "execution_count": null,
   "metadata": {
    "ExecuteTime": {
     "end_time": "2017-11-08T12:17:05.161540Z",
     "start_time": "2017-11-08T12:17:05.143494Z"
    },
    "extensions": {
     "jupyter_dashboards": {
      "version": 1,
      "views": {
       "grid_default": {
        "col": 8,
        "height": 4,
        "hidden": false,
        "row": 8,
        "width": 4
       },
       "report_default": {}
      }
     }
    },
    "scrolled": true
   },
   "outputs": [],
   "source": [
    "compute_ttf = widgets.Button(description=r'Compute TTF',\n",
    "                             layout=widgets.Layout(width='110px', \n",
    "                                                   height='60px'))\n",
    "display(compute_ttf)\n",
    "    \n",
    "compute_ttf.on_click(main_hub.compute_ttf,)"
   ]
  },
  {
   "cell_type": "code",
   "execution_count": null,
   "metadata": {
    "ExecuteTime": {
     "end_time": "2017-11-08T12:17:05.180090Z",
     "start_time": "2017-11-08T12:17:05.163556Z"
    }
   },
   "outputs": [],
   "source": [
    "save_ttf = widgets.Button(description='Save TTF',\n",
    "                                 layout=widgets.Layout(width='110px', \n",
    "                                                       height='60px'))\n",
    "display(save_ttf)\n",
    "    \n",
    "save_ttf.on_click(main_hub.save_json,)"
   ]
  }
 ],
 "metadata": {
  "extensions": {
   "jupyter_dashboards": {
    "activeView": "grid_default",
    "version": 1,
    "views": {
     "grid_default": {
      "cellMargin": 10,
      "defaultCellHeight": 20,
      "maxColumns": 12,
      "name": "grid",
      "type": "grid"
     },
     "report_default": {
      "name": "report",
      "type": "report"
     }
    }
   }
  },
  "hide_input": true,
  "kernelspec": {
   "display_name": "Python 3",
   "language": "python",
   "name": "python3"
  },
  "language_info": {
   "codemirror_mode": {
    "name": "ipython",
    "version": 3
   },
   "file_extension": ".py",
   "mimetype": "text/x-python",
   "name": "python",
   "nbconvert_exporter": "python",
   "pygments_lexer": "ipython3",
   "version": "3.6.6"
  },
  "varInspector": {
   "cols": {
    "lenName": 16,
    "lenType": 16,
    "lenVar": 40
   },
   "kernels_config": {
    "python": {
     "delete_cmd_postfix": "",
     "delete_cmd_prefix": "del ",
     "library": "var_list.py",
     "varRefreshCmd": "print(var_dic_list())"
    },
    "r": {
     "delete_cmd_postfix": ") ",
     "delete_cmd_prefix": "rm(",
     "library": "var_list.r",
     "varRefreshCmd": "cat(var_dic_list()) "
    }
   },
   "position": {
    "height": "145px",
    "left": "1294px",
    "right": "36px",
    "top": "136px",
    "width": "350px"
   },
   "types_to_exclude": [
    "module",
    "function",
    "builtin_function_or_method",
    "instance",
    "_Feature"
   ],
   "window_display": false
  }
 },
 "nbformat": 4,
 "nbformat_minor": 2
}
