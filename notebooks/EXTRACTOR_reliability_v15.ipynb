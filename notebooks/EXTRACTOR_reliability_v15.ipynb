{
 "cells": [
  {
   "cell_type": "markdown",
   "metadata": {},
   "source": [
    "# TODO\n",
    "* Create a more dynamic cicle, especially the text file parsing.\n",
    "* Comment, comment, comment\n",
    "* Understand the difference between the copies "
   ]
  },
  {
   "cell_type": "markdown",
   "metadata": {},
   "source": [
    "Utilizes the module extractor from analytics_stat"
   ]
  },
  {
   "cell_type": "markdown",
   "metadata": {
    "extensions": {
     "jupyter_dashboards": {
      "version": 1,
      "views": {
       "grid_default": {
        "col": 4,
        "height": 4,
        "hidden": false,
        "row": 0,
        "width": 5
       },
       "report_default": {
        "hidden": false
       }
      }
     }
    }
   },
   "source": [
    "# Extract and tranform clients data\n",
    "*  load csv, txt, xlsx, and other file formats;\n",
    "* parse all fields;"
   ]
  },
  {
   "cell_type": "code",
   "execution_count": null,
   "metadata": {
    "ExecuteTime": {
     "end_time": "2017-11-08T12:06:25.471885Z",
     "start_time": "2017-11-08T12:06:25.460877Z"
    },
    "extensions": {
     "jupyter_dashboards": {
      "version": 1,
      "views": {
       "grid_default": {
        "col": 0,
        "height": 4,
        "hidden": true,
        "row": 5,
        "width": 4
       },
       "report_default": {
        "hidden": false
       }
      }
     }
    }
   },
   "outputs": [],
   "source": [
    "%%html\n",
    "<script>\n",
    "code_show=false;\n",
    "function code_toggle() {\n",
    " if (code_show){\n",
    " $('div.input').hide();\n",
    " } else {\n",
    " $('div.input').show();\n",
    " }\n",
    " code_show = !code_show\n",
    "} \n",
    "$( document ).ready(code_toggle);\n",
    "</script>\n",
    "To hide/show code, click <a href=\"javascript:code_toggle()\">here</a>."
   ]
  },
  {
   "cell_type": "code",
   "execution_count": null,
   "metadata": {
    "ExecuteTime": {
     "end_time": "2017-11-08T12:06:26.811638Z",
     "start_time": "2017-11-08T12:06:25.474892Z"
    },
    "extensions": {
     "jupyter_dashboards": {
      "version": 1,
      "views": {
       "grid_default": {
        "hidden": true
       },
       "report_default": {
        "hidden": true
       }
      }
     }
    }
   },
   "outputs": [],
   "source": [
    "import sys\n",
    "sys.path.append(r'..\\bin')\n",
    "import analytics_stat.distributions as di\n",
    "import analytics_stat.db_mgmt as db\n",
    "import analytics_stat.extractor as extractor\n",
    "import pandas as pd\n",
    "import os\n",
    "from IPython.display import HTML, Image, display, clear_output\n",
    "import xlrd\n",
    "import psycopg2\n",
    "from sqlalchemy import create_engine, Column, Table, MetaData\n",
    "from sqlalchemy.sql import text\n",
    "import numpy as np\n",
    "import re\n",
    "import time\n",
    "import ipywidgets as widgets"
   ]
  },
  {
   "cell_type": "code",
   "execution_count": null,
   "metadata": {
    "ExecuteTime": {
     "end_time": "2017-11-08T12:06:27.291309Z",
     "start_time": "2017-11-08T12:06:26.813167Z"
    }
   },
   "outputs": [],
   "source": [
    "import traitlets\n",
    "from tkinter import Tk, filedialog\n",
    "\n",
    "\n",
    "class SelectFilesButton(widgets.Button):\n",
    "    \"\"\"A file widget that leverages tkinter.filedialog.\"\"\"\n",
    "\n",
    "    def __init__(self, container):\n",
    "        super(SelectFilesButton, self).__init__()\n",
    "        # Add the selected_files trait\n",
    "        self.add_traits(files=traitlets.traitlets.List())\n",
    "        # Create the button.\n",
    "        self.description = \"Select Files\"\n",
    "        self.icon = \"square-o\"\n",
    "#         self.button_style = \"info\"\n",
    "        # Set on click behavior.\n",
    "        self.on_click(self.select_files)\n",
    "        self._c = container\n",
    "#         self.files = []\n",
    "\n",
    "\n",
    "    @staticmethod\n",
    "    def select_files(self):\n",
    "        \"\"\"Generate instance of tkinter.filedialog.\n",
    "\n",
    "        Parameters\n",
    "        ----------\n",
    "        b : obj:\n",
    "            An instance of ipywidgets.widgets.Button \n",
    "        \"\"\"\n",
    "        # Create Tk root\n",
    "        root = Tk()\n",
    "        # Hide the main window\n",
    "        root.withdraw()\n",
    "        # Raise the root to the top of all windows.\n",
    "        root.call('wm', 'attributes', '.', '-topmost', True)\n",
    "        # List of selected fileswill be set to b.value\n",
    "        \n",
    "        new_file = filedialog.askopenfilename(multiple=True,filetypes = [('All allowed types',(\"*.xls\", \"*.xlsx\",\n",
    "                                                                                              '*.csv', '*.txt')),\n",
    "                                                                        (\"MS Excel Files\", (\"*.xls\", \"*.xlsx\")),\n",
    "                                                                        (\"CSV\",'*.csv'),\n",
    "                                                                        (\"TXT\",'*.txt')])\n",
    "        if new_file != \"\":\n",
    "#             self.files.append(new_file)\n",
    "            self.files = new_file\n",
    "\n",
    "        print('Selected file: {}'.format(self.files ))\n",
    "\n",
    "        self.description = \"Files Selected\"\n",
    "        self.icon = \"check-square-o\"\n",
    "        self.button_style = \"success\"\n",
    "#         self._c.children = self._c.children + (widgets.HTML(\"<H4>Selected file:</H4><p>{}</p>\".format(self._c.children[0].files[0])),)\n",
    "\n",
    "\n",
    "#         b.style.button_color = \"lightgreen\"\n",
    "\n",
    "    @staticmethod\n",
    "    def select_json(self):\n",
    "        \"\"\"Generate instance of tkinter.filedialog.\n",
    "\n",
    "        Parameters\n",
    "        ----------\n",
    "        b : obj:\n",
    "            An instance of ipywidgets.widgets.Button \n",
    "        \"\"\"\n",
    "        # Create Tk root\n",
    "        root = Tk()\n",
    "        # Hide the main window\n",
    "        root.withdraw()\n",
    "        # Raise the root to the top of all windows.\n",
    "        root.call('wm', 'attributes', '.', '-topmost', True)\n",
    "        # List of selected fileswill be set to b.value\n",
    "        \n",
    "        new_file = filedialog.askopenfilename(multiple=True,filetypes = [(\"JSON\",'*.json')])\n",
    "        if new_file != \"\":\n",
    "#             self.files.append(new_file)\n",
    "            self.files = new_file\n",
    "\n",
    "        print('Selected file: {}'.format(self.files ))\n",
    "\n",
    "        self.description = \"Files Selected\"\n",
    "        self.icon = \"check-square-o\"\n",
    "        self.button_style = \"success\"\n",
    "\n",
    "\n",
    "def create_selector(wo_table):\n",
    "    wo_type_labels_nano = ['-','PRV','PRD','COR','INS',\n",
    "                           'CLN','LUB','MET','LAC','COM',\n",
    "                           'CON','GEN']\n",
    "    container= list()\n",
    "    type_selects = list()\n",
    "    \n",
    "    l = 0\n",
    "    for i, label in enumerate(wo_table['wo_type']):\n",
    "        l += 1\n",
    "        type_selects.append(widgets.Dropdown(\n",
    "                         options=wo_type_labels_nano,\n",
    "                         description=label,\n",
    "                         value=wo_table.loc[i,'wo_type_nano'],\n",
    "                         disabled=False))\n",
    "        \n",
    "        if l == len(wo_table):  # number of columns\n",
    "            container.append(widgets.VBox(type_selects))\n",
    "            type_selects = list()\n",
    "            l=0\n",
    "\n",
    "    return container\n",
    "\n",
    "def update_wo_call(update_wo_types):\n",
    "    wo_type_labels = list(top_freq_wo['wo_type'].values)\n",
    "    query_labels = str()\n",
    "    \n",
    "    if wo_type_labels:\n",
    "        for i,label in enumerate(wo_type_labels):\n",
    "            query_labels += \"WHEN wo_type IN ('{}') THEN '{}'\\n\".format(label,select.children[0].children[i].value)\n",
    "\n",
    "        query_update_wo = \"\"\"UPDATE reliability \n",
    "           SET wo_type_nano = \n",
    "           CASE \n",
    "           {}\n",
    "           ELSE wo_type_nano \n",
    "           END;\"\"\".format(query_labels)\n",
    "\n",
    "#         print(query_update_wo)\n",
    "\n",
    "        table_name = 'reliability'\n",
    "\n",
    "        exists=engine.execute(text(\"\"\"SELECT * FROM information_schema.tables WHERE table_name = '{}'\"\"\".format(table_name)).execution_options(autocommit=True)).fetchall()\n",
    "        if exists:\n",
    "            engine.execute(text(query_update_wo).execution_options(autocommit=True))\n",
    "    else:\n",
    "        print('no changes.')\n",
    "\n",
    "\n",
    "class parse_data(object):\n",
    "    def __init__(self):\n",
    "        self._parsed_data = None\n",
    "        self._clientid = None\n",
    "    \n",
    "    def parse_data_call(self,parse_data_button):\n",
    "        self._clientid = clients_table.loc[clients_table['name']==select_client.value, 'id'].values[0]\n",
    "\n",
    "        cols_expected_table = pd.read_sql_query(\"\"\"SELECT * FROM clients WHERE id={}\"\"\".format(self._clientid), engine).dropna(axis=1,how='all').iloc[0,2:]\n",
    "        cols_expected = cols_expected_table.values\n",
    "\n",
    "        db_cols_relationship = [cols_expected_table.index[cols_expected_table.values==c][0] for c in cols_expected]\n",
    "\n",
    "\n",
    "        meta = MetaData()\n",
    "        meta.bind = engine\n",
    "        meta.reflect()\n",
    "        datatable = meta.tables['reliability']\n",
    "        integer_cols = [c.name for i, c in enumerate(datatable.columns) if (''.join(re.findall('[A-Za-z]',str(c.type))) in ['INTEGER','FLOAT','NUMERIC','MONEY']) and (c.name in db_cols_relationship)]\n",
    "\n",
    "        file_path = clients_mgmt.children[1].files[0]\n",
    "\n",
    "        self._parsed_data = extractor.parser(file_path, cols_expected_table, integer_cols, self._clientid)\n",
    "\n",
    "        ingest_data_button = widgets.Button(description='Ingest parsed data into table',\n",
    "           layout=widgets.Layout(width='200px', height='80px'))\n",
    "\n",
    "        ingest_db = db.pandas2db(pdata._parsed_data, engine)\n",
    "\n",
    "        ingest_data_button.on_click(ingest_db.ingest,)\n",
    "\n",
    "        display(ingest_data_button)\n",
    "\n",
    "\n"
   ]
  },
  {
   "cell_type": "markdown",
   "metadata": {},
   "source": [
    "## Database connection"
   ]
  },
  {
   "cell_type": "code",
   "execution_count": null,
   "metadata": {
    "ExecuteTime": {
     "end_time": "2017-11-08T12:06:27.428498Z",
     "start_time": "2017-11-08T12:06:27.292815Z"
    },
    "extensions": {
     "jupyter_dashboards": {
      "version": 1,
      "views": {
       "grid_default": {
        "col": 4,
        "height": 4,
        "hidden": true,
        "row": 5,
        "width": 4
       },
       "report_default": {
        "hidden": false
       }
      }
     }
    }
   },
   "outputs": [],
   "source": [
    "engine = db.db_engine()"
   ]
  },
  {
   "cell_type": "markdown",
   "metadata": {},
   "source": [
    "## Status of Clients table"
   ]
  },
  {
   "cell_type": "code",
   "execution_count": null,
   "metadata": {
    "ExecuteTime": {
     "end_time": "2017-11-08T12:06:29.498718Z",
     "start_time": "2017-11-08T12:06:27.430479Z"
    },
    "extensions": {
     "jupyter_dashboards": {
      "version": 1,
      "views": {
       "grid_default": {
        "col": 0,
        "height": 11,
        "hidden": false,
        "row": 4,
        "width": 12
       },
       "report_default": {
        "hidden": false
       }
      }
     }
    }
   },
   "outputs": [],
   "source": [
    "clients_table = pd.read_sql_query(\"\"\"SELECT * FROM clients\"\"\", engine).dropna(1, how='all')\n",
    "display(clients_table)"
   ]
  },
  {
   "cell_type": "markdown",
   "metadata": {
    "ExecuteTime": {
     "end_time": "2017-08-28T10:43:01.520106Z",
     "start_time": "2017-08-28T10:43:01.515093Z"
    }
   },
   "source": [
    "## Select client and data file"
   ]
  },
  {
   "cell_type": "code",
   "execution_count": null,
   "metadata": {
    "ExecuteTime": {
     "end_time": "2017-11-08T12:06:29.535285Z",
     "start_time": "2017-11-08T12:06:29.500694Z"
    },
    "extensions": {
     "jupyter_dashboards": {
      "version": 1,
      "views": {
       "grid_default": {
        "hidden": true
       },
       "report_default": {
        "hidden": true
       }
      }
     }
    }
   },
   "outputs": [],
   "source": [
    "client_names = ['-'] + list(clients_table['name'].values)\n",
    "\n",
    "select_client = widgets.Dropdown(\n",
    "    options=client_names,\n",
    "    value= '-',\n",
    "    description='Client:',\n",
    "    continuous_update=True)\n",
    "\n",
    "\n",
    "clients_mgmt = widgets.HBox([select_client])\n",
    "\n",
    "\n",
    "\n",
    "clients_mgmt.children = clients_mgmt.children +\\\n",
    "                            (SelectFilesButton(clients_mgmt),)\n",
    "    \n"
   ]
  },
  {
   "cell_type": "code",
   "execution_count": null,
   "metadata": {
    "ExecuteTime": {
     "end_time": "2017-11-08T12:06:29.549823Z",
     "start_time": "2017-11-08T12:06:29.537290Z"
    }
   },
   "outputs": [],
   "source": [
    "def update_y(args):\n",
    "    clear_output()\n",
    "    print('Selected Client:  {}'.format(args['new']))\n",
    "    client_id = clients_table.loc[clients_table['name']==select_client.value, 'id'].values[0]\n",
    "    print('Client id: {}'.format(client_id))\n",
    "    return client_id\n",
    "\n",
    "\n",
    "client_id = select_client.observe(update_y, 'value')\n",
    "\n",
    "display(clients_mgmt)"
   ]
  },
  {
   "cell_type": "markdown",
   "metadata": {},
   "source": [
    "## Parse and ingest data"
   ]
  },
  {
   "cell_type": "code",
   "execution_count": null,
   "metadata": {
    "ExecuteTime": {
     "end_time": "2017-11-08T12:06:29.568385Z",
     "start_time": "2017-11-08T12:06:29.551328Z"
    }
   },
   "outputs": [],
   "source": [
    "parse_data_button = widgets.Button(description='Parse selected\\ndata',\n",
    "           layout=widgets.Layout(width='200px', height='80px'))\n",
    "display(parse_data_button)\n",
    "\n",
    "pdata = parse_data()\n",
    "\n",
    "parse_data_button.on_click(pdata.parse_data_call,)"
   ]
  },
  {
   "cell_type": "code",
   "execution_count": null,
   "metadata": {},
   "outputs": [],
   "source": [
    "pdata._parsed_data"
   ]
  },
  {
   "cell_type": "code",
   "execution_count": null,
   "metadata": {},
   "outputs": [],
   "source": []
  }
 ],
 "metadata": {
  "extensions": {
   "jupyter_dashboards": {
    "activeView": "report_default",
    "version": 1,
    "views": {
     "grid_default": {
      "cellMargin": 10,
      "defaultCellHeight": 20,
      "maxColumns": 12,
      "name": "grid",
      "type": "grid"
     },
     "report_default": {
      "name": "report",
      "type": "report"
     }
    }
   }
  },
  "hide_input": true,
  "kernelspec": {
   "display_name": "Python 3",
   "language": "python",
   "name": "python3"
  },
  "language_info": {
   "codemirror_mode": {
    "name": "ipython",
    "version": 3
   },
   "file_extension": ".py",
   "mimetype": "text/x-python",
   "name": "python",
   "nbconvert_exporter": "python",
   "pygments_lexer": "ipython3",
   "version": "3.6.6"
  },
  "varInspector": {
   "cols": {
    "lenName": 16,
    "lenType": 16,
    "lenVar": 40
   },
   "kernels_config": {
    "python": {
     "delete_cmd_postfix": "",
     "delete_cmd_prefix": "del ",
     "library": "var_list.py",
     "varRefreshCmd": "print(var_dic_list())"
    },
    "r": {
     "delete_cmd_postfix": ") ",
     "delete_cmd_prefix": "rm(",
     "library": "var_list.r",
     "varRefreshCmd": "cat(var_dic_list()) "
    }
   },
   "position": {
    "height": "145px",
    "left": "1294px",
    "right": "36px",
    "top": "136px",
    "width": "350px"
   },
   "types_to_exclude": [
    "module",
    "function",
    "builtin_function_or_method",
    "instance",
    "_Feature"
   ],
   "window_display": false
  }
 },
 "nbformat": 4,
 "nbformat_minor": 2
}
