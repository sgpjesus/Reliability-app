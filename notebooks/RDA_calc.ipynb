{
 "cells": [
  {
   "cell_type": "code",
   "execution_count": 1,
   "metadata": {
    "ExecuteTime": {
     "end_time": "2017-11-08T10:00:01.880389Z",
     "start_time": "2017-11-08T10:00:00.761044Z"
    },
    "extensions": {
     "jupyter_dashboards": {
      "version": 1,
      "views": {
       "grid_default": {
        "col": 0,
        "height": 4,
        "hidden": true,
        "row": 0,
        "width": 4
       },
       "report_default": {}
      }
     }
    }
   },
   "outputs": [
    {
     "data": {
      "text/html": [
       "<script>requirejs.config({paths: { 'plotly': ['https://cdn.plot.ly/plotly-latest.min']},});if(!window.Plotly) {{require(['plotly'],function(plotly) {window.Plotly=plotly;});}}</script>"
      ],
      "text/vnd.plotly.v1+html": [
       "<script>requirejs.config({paths: { 'plotly': ['https://cdn.plot.ly/plotly-latest.min']},});if(!window.Plotly) {{require(['plotly'],function(plotly) {window.Plotly=plotly;});}}</script>"
      ]
     },
     "metadata": {},
     "output_type": "display_data"
    },
    {
     "data": {
      "text/html": [
       "<script>requirejs.config({paths: { 'plotly': ['https://cdn.plot.ly/plotly-latest.min']},});if(!window.Plotly) {{require(['plotly'],function(plotly) {window.Plotly=plotly;});}}</script>"
      ],
      "text/vnd.plotly.v1+html": [
       "<script>requirejs.config({paths: { 'plotly': ['https://cdn.plot.ly/plotly-latest.min']},});if(!window.Plotly) {{require(['plotly'],function(plotly) {window.Plotly=plotly;});}}</script>"
      ]
     },
     "metadata": {},
     "output_type": "display_data"
    },
    {
     "data": {
      "text/html": [
       "<script>\n",
       "code_show=false;\n",
       "function code_toggle() {\n",
       " if (code_show){\n",
       " $('div.input').hide();\n",
       " } else {\n",
       " $('div.input').show();\n",
       " }\n",
       " code_show = !code_show\n",
       "} \n",
       "$( document ).ready(code_toggle);\n",
       "</script>\n",
       "To hide/show code, click <a href=\"javascript:code_toggle()\">here</a>."
      ],
      "text/plain": [
       "<IPython.core.display.HTML object>"
      ]
     },
     "metadata": {},
     "output_type": "display_data"
    }
   ],
   "source": [
    "\n",
    "import sys \n",
    "sys.path.append(r'C:\\Users\\diogogoncalves\\Desktop\\EQS_LOCAL\\Bitbucket_eqs')\n",
    "import analytics_stat.distributions as di\n",
    "\n",
    "import warnings\n",
    "warnings.filterwarnings('ignore')\n",
    "\n",
    "import datetime\n",
    "import scipy.stats as s\n",
    "#import scipy.optimize as opt\n",
    "#import scipy.special as special\n",
    "import numpy as np\n",
    "import matplotlib.pyplot as plt\n",
    "import ipywidgets as widgets\n",
    "%matplotlib inline\n",
    "# %matplotlib notebook\n",
    "\n",
    "import os\n",
    "import json\n",
    "import pandas as pd\n",
    "import qgrid\n",
    "from IPython.display import HTML, Image, display, clear_output\n",
    "# display(HTML(\"<style>.container { width:95% !important; }</style>\"))\n",
    "\n",
    "# py.sign_in('diogo.antunes.goncalves', 'kt7T5JadNn2AhWk3DdPR')\n",
    "\n",
    "import plotly.offline as py\n",
    "import plotly.graph_objs as go\n",
    "py.init_notebook_mode(connected=True)\n",
    "\n",
    "display(HTML('''<script>\n",
    "code_show=false;\n",
    "function code_toggle() {\n",
    " if (code_show){\n",
    " $('div.input').hide();\n",
    " } else {\n",
    " $('div.input').show();\n",
    " }\n",
    " code_show = !code_show\n",
    "} \n",
    "$( document ).ready(code_toggle);\n",
    "</script>\n",
    "To hide/show code, click <a href=\"javascript:code_toggle()\">here</a>.''')) \n",
    "\n"
   ]
  },
  {
   "cell_type": "code",
   "execution_count": 2,
   "metadata": {
    "ExecuteTime": {
     "end_time": "2017-11-08T10:00:03.766849Z",
     "start_time": "2017-11-08T10:00:01.882393Z"
    },
    "code_folding": []
   },
   "outputs": [],
   "source": [
    "import traitlets\n",
    "from tkinter import Tk, filedialog\n",
    "\n",
    "\n",
    "class Plotting:\n",
    "    \n",
    "    def __init__(self):\n",
    "        pass\n",
    "    \n",
    "    def plot_line(self, json, x, y, name):\n",
    "        x = json.x\n",
    "        y = json.y\n",
    "        name = json.name\n",
    "        trace_line = go.Scatter(x = x, y = y, mode = 'lines', opacity = 0.8, name = name, xaxis = 'x', yaxis = 'y')\n",
    "        \n",
    "    def plot_scatter(self,  x, y, name):\n",
    "        x = json.x\n",
    "        y = json.y\n",
    "        name = json.name\n",
    "        trace_scatter = go.Scatter(x = x, y = y, mode = 'markers', opacity = 0.8, name = fn, xaxis = 'x', yaxis = 'y')\n",
    "        \n",
    "    def plot_histogram(self,  x, name, normed):\n",
    "        x= json.x\n",
    "        normed = json.type  # 'probability'\n",
    "        trace_histogram = go.Histogram(x=x, histnorm=normed)\n",
    "                           \n",
    "    def create_layout(self, title, xlabel, ylabel):\n",
    "        title = json.title\n",
    "        xlabel = json.xlabel\n",
    "        ylabel = json.ylabel\n",
    "        layout = Layout(title=title, yaxis=dict(title=ylabel)) \n",
    "        \n",
    "    def draw(self,trace,layout):\n",
    "        fig = go.Figure(data = [trace_histogram],layout=layout)\n",
    "        py.iplot(fig)\n",
    "\n",
    "        \n",
    "\n",
    "class StatPlot(Plotting):\n",
    "    \n",
    "    def __init__(self):\n",
    "        \n",
    "        pass\n",
    "    \n",
    "    def pdf(self, json):\n",
    "        \n",
    "        pdf_mle = dist_funs[dist_index[0]].pdf(params_dist_mle,  x_plot)\n",
    "\n",
    "\n",
    "\n",
    "class DisplayCalc:\n",
    "    \n",
    "    def __init__(self):\n",
    "        \n",
    "        # Select file button\n",
    "        self._bsf = widgets.Button(layout=widgets.Layout(width='500px',height='50px'))\n",
    "        self._bsf.add_traits(files=traitlets.traitlets.List())\n",
    "        self._bsf.description = \"Select Model File\"\n",
    "        self._bsf.icon = \"square-o\"\n",
    "        self._bsf.on_click(self.select_json)\n",
    "        \n",
    "        \n",
    "        # Load Json button\n",
    "        self._blj = widgets.Button(layout=widgets.Layout(width='500px',height='50px'))\n",
    "        self._blj.description = \"Load Model\"\n",
    "        self._blj.icon = 'download'\n",
    "        self._blj.on_click(self.load_json_model)\n",
    "        self._blj.disabled = True\n",
    "        \n",
    "        # Plot button\n",
    "        self._bplot = widgets.Button(layout=widgets.Layout(width='500px',height='50px'))\n",
    "        self._bplot.description = 'Plot'\n",
    "        self._bplot.icon = \"area-chart\"\n",
    "        self._bplot.on_click(self.plot_result)\n",
    "        self._bplot.disabled = True\n",
    "        \n",
    "        # Save model button\n",
    "        self._bsm = widgets.Button(layout=widgets.Layout(width='500px',height='50px'))\n",
    "        self._bsm.description = 'Save Analysis'\n",
    "        self._bsm.icon = \"floppy-o\"\n",
    "        self._bsm.on_click(self.save_model_json)\n",
    "        self._bsm.disable = True\n",
    "        \n",
    "        # Select Plot type\n",
    "        self._dd_plots = widgets.Dropdown(\n",
    "            options=['PDF','Unreliability','Reliability','Bx Life',\n",
    "#                      'ProbPlot',\n",
    "                     'MTBF'],\n",
    "            value='PDF',\n",
    "            description='Select Analysis:',\n",
    "            disabled=False,\n",
    "            layout=widgets.Layout(width='300px', height='50px'))\n",
    "        \n",
    "        # define layout\n",
    "#         box_layout = widgets.Layout(display='center',\n",
    "#                             flex_flow='row',\n",
    "#                             align_items='center',\n",
    "#                             border='None',\n",
    "#                             justify_content='space-between',\n",
    "#                             width='800px')\n",
    "        box_layout = widgets.Layout(display='center',\n",
    "                                    flex_flow='row',\n",
    "                                    # align_items='center',\n",
    "                                    border='None',\n",
    "                                    justify_content='center',\n",
    "                                    # width='500px'\n",
    "                                    )\n",
    "        \n",
    "        self._box_a = widgets.Box(children=[self._bsf,\n",
    "                                            self._blj,  \n",
    "#                                           self._bsm\n",
    "                                            ], layout=box_layout)\n",
    "        \n",
    "        self._box_b = widgets.Box(children=[self._dd_plots,self._bplot,\n",
    "                                          ], layout=box_layout)\n",
    "        \n",
    "        self._result_output = widgets.Output()\n",
    "        \n",
    "        \n",
    "        display(widgets.VBox([self._box_a, self._box_b, self._result_output]))\n",
    "        \n",
    "    def select_json(self,b): \n",
    "        # Create Tk root\n",
    "        root = Tk()\n",
    "        # Hide the main window\n",
    "        root.withdraw()\n",
    "        # Raise the root to the top of all windows.\n",
    "        root.call('wm', 'attributes', '.',\n",
    "                  '-topmost', True)\n",
    "        \n",
    "        new_file = filedialog.askopenfilename(multiple=True,filetypes = [(\"JSON\",'*.json')])\n",
    "        if new_file != \"\":\n",
    "            self._bsf.files = new_file\n",
    "\n",
    "        print('Selected file: {}'.format(self._bsf.files ))\n",
    "\n",
    "        self._bsf.description = \"Model Selected\"\n",
    "        self._bsf.icon = \"check-square-o\"\n",
    "        self._bsf.button_style = \"success\"\n",
    "        \n",
    "        self._blj.disabled = False\n",
    "\n",
    "        \n",
    "        \n",
    "    def load_json_model(self, b):\n",
    "        \n",
    "        file_path = self._bsf.files\n",
    "        if (type(file_path) == list) and (len(file_path)>0):\n",
    "            with open(file_path[0], 'r') as f:\n",
    "                self._json_file = json.load(f)\n",
    "                \n",
    "            self._client = self._json_file['client_name']\n",
    "            self._clientid = self._json_file['client_id']\n",
    "            self._symptom = self._json_file['symptom']\n",
    "                \n",
    "            self._blj.button_style = \"success\"\n",
    "            print('JSON loaded:')\n",
    "            print(self._json_file)\n",
    "            \n",
    "            self._bplot.disabled = False\n",
    "        else:\n",
    "            print('Select file.')\n",
    "            \n",
    "            \n",
    "    def save_model_json(self, b):\n",
    "        json_model = dict()\n",
    "        json_model['version'] = 0.1 \n",
    "        json_model['saved_time'] = str(datetime.datetime.now())\n",
    "        \n",
    "        if self._symptom is None:\n",
    "            json_model['symptom'] = None\n",
    "        elif isinstance(self._symptom, int):\n",
    "            json_model['symptom'] = int(self._symptom)\n",
    "        elif isinstance(self._symptom, list):\n",
    "            json_model['symptom'] = self._symptom\n",
    "        else:\n",
    "            raise TypeError('Undefined type for Symptom.')\n",
    "            \n",
    "        json_model['client_id'] = int(self._clientid)\n",
    "        json_model['client_name'] = self._client\n",
    "        \n",
    "        json_model['input_json'] = os.path.splitext(os.path.basename(d._bsf.files[0]))[0]\n",
    "        json_model['competing_models'] = list(self._sdist.value)\n",
    "        \n",
    "        json_model['best_model'] = dict()\n",
    "        json_model['best_model']['law'] = self._combs[0].iloc[0].name\n",
    "        json_model['best_model']['MLE'] = dict()\n",
    "        json_model['best_model']['MLE']['params'] = self._res_mle[json_model['best_model']['law']]['params']\n",
    "        json_model['best_model']['MLE']['goodness_of_fit'] = self._res_mle[json_model['best_model']['law']]['goodness_of_fit']\n",
    "        \n",
    "        json_model['best_model']['LSQ'] = dict()\n",
    "        json_model['best_model']['LSQ']['params'] = self._res_ls[json_model['best_model']['law']]['params']\n",
    "        json_model['best_model']['LSQ']['goodness_of_fit'] = self._res_ls[json_model['best_model']['law']]['goodness_of_fit']\n",
    "                                \n",
    "        with open(\"../models/stat/model_{}_{}.json\".format(json_model['input_json'],\n",
    "                                                           json_model['best_model']['law']), 'w') as f:\n",
    "            json.dump(json_model, f)\n",
    "        \n",
    "        self._bsm.button_style = 'success'\n",
    "        \n",
    "        \n",
    "    def plot_result(self,b):\n",
    "        \n",
    "        plot_obj = self.rda_analysis(self._dd_plots.value)\n",
    "        \n",
    "        with self._result_output:\n",
    "            clear_output()\n",
    "            py.iplot(plot_obj)\n",
    "            \n",
    "    def rda_analysis(self, analysis):\n",
    "        \n",
    "        # display plotly graphs in Output widgets\n",
    "        layout_graph = go.Layout(\n",
    "            # xaxis=dict(\n",
    "            #     title='Equipment',\n",
    "            # ),\n",
    "            xaxis=dict(tickangle=40),\n",
    "            yaxis=dict(\n",
    "                title='',\n",
    "            )\n",
    "        )        \n",
    "        \n",
    "        if analysis=='PDF':\n",
    "            t_final = 130\n",
    "            t_range = np.arange(0,t_final)\n",
    "            pdf_y = di.weibull().pdf(d._json_file['best_model']['MLE']['params'],\n",
    "                                     t_range)\n",
    "            \n",
    "            layout_graph.title = analysis\n",
    "            \n",
    "            return go.Figure(data=[go.Scatter(x=t_range, y=pdf_y,\n",
    "                                                   marker=dict(\n",
    "                                                       color='#d04e09',\n",
    "                                                       line=dict(\n",
    "                                                           color='#d04e09',\n",
    "                                                           width=1.5,\n",
    "                                                       )))], layout=layout_graph)            \n",
    "        elif analysis=='Unreliability':\n",
    "            t_final = 130\n",
    "            t_range = np.arange(0, t_final)\n",
    "            cdf_y = di.weibull().cdf(d._json_file['best_model']['MLE']['params'],\n",
    "                                     t_range)\n",
    "            \n",
    "            layout_graph.title = analysis\n",
    "            layout_graph.yaxis.title = 'F(t)'\n",
    "            layout_graph.xaxis.title = 'Time (t)'\n",
    "            \n",
    "            \n",
    "            return go.Figure(data=[go.Scatter(x=t_range, y=cdf_y,\n",
    "                                                   marker=dict(\n",
    "                                                       color='#d04e09',\n",
    "                                                       line=dict(\n",
    "                                                           color='#d04e09',\n",
    "                                                           width=1.5,\n",
    "                                                       )))], layout=layout_graph)\n",
    "            \n",
    "            \n",
    "        elif analysis=='Reliability':\n",
    "            t_final = 130\n",
    "            t_range = np.arange(0,t_final)\n",
    "            cdf_y = di.weibull().cdf(d._json_file['best_model']['MLE']['params'],\n",
    "                                     t_range)\n",
    "            \n",
    "            layout_graph.title = analysis\n",
    "            layout_graph.yaxis.title = 'R(t)'\n",
    "            layout_graph.xaxis.title = 'Time (t)'\n",
    "            \n",
    "            return go.Figure(data=[go.Scatter(x=t_range, y=1-cdf_y,\n",
    "                                                   marker=dict(\n",
    "                                                       color='#d04e09',\n",
    "                                                       line=dict(\n",
    "                                                           color='#d04e09',\n",
    "                                                           width=1.5,\n",
    "                                                       )))], layout=layout_graph)\n",
    "            \n",
    "        elif analysis=='Bx Life':\n",
    "            perc = np.array([0.01, .1, 1, 2, 3, 4, 5, 6, 7, 8, 9, 10,\n",
    "                  20, 30, 40, 50, 60, 70, 80, 85, 90, 95,\n",
    "                  99.99\n",
    "                ])\n",
    "            \n",
    "            percentile = di.weibull().ppf(d._json_file['best_model']['MLE']['params'],perc/100)\n",
    "\n",
    "            table_of_percentiles = pd.DataFrame({'BX%':perc,'Percentile (t)':percentile})\n",
    "            \n",
    "            layout_graph.title = 'B10 Life: {0:0.2f}'.format(table_of_percentiles.loc[table_of_percentiles['BX%']==10,\n",
    "                                                                                      'Percentile (t)'].values[0])\n",
    "            layout_graph.title = analysis\n",
    "            layout_graph.yaxis.title = 'Time (t)'\n",
    "            layout_graph.xaxis.title = 'Percentage of equipment failed (%)'\n",
    "            layout_graph.yaxis.type = 'log'\n",
    "            \n",
    "            return go.Figure(data=[go.Scatter(x=table_of_percentiles['BX%'].values, y=table_of_percentiles['Percentile (t)'].values,\n",
    "                                                   marker=dict(\n",
    "                                                       color='#d04e09',\n",
    "                                                       line=dict(\n",
    "                                                           color='#d04e09',\n",
    "                                                           width=1.5,\n",
    "                                                       )))], layout=layout_graph)\n",
    "            \n",
    "        elif analysis=='MTBF':\n",
    "            convergence_criterium = 1e-4\n",
    "            t_final = 130\n",
    "            t_range = np.arange(0,t_final)\n",
    "            \n",
    "            int_MTBF = np.cumsum(1-di.weibull().cdf(d._json_file['best_model']['MLE']['params'],t_range))\n",
    "            \n",
    "            mtbf = int_MTBF[np.max(np.where(np.diff(np.diff(np.diff(int_MTBF)))>convergence_criterium))]  # converging criteria\n",
    "            \n",
    "            layout_graph.title = 'MTBF: {0:0.2f}'.format(mtbf)\n",
    "            layout_graph.yaxis.title = 'cumsum(Reliability)'\n",
    "            layout_graph.xaxis.title = 'Time (t)'\n",
    "            \n",
    "            return go.Figure(data=[go.Scatter(x=t_range, y=int_MTBF,\n",
    "                                                   marker=dict(\n",
    "                                                       color='#d04e09',\n",
    "                                                       line=dict(\n",
    "                                                           color='#d04e09',\n",
    "                                                           width=1.5,\n",
    "                                                       )))], layout=layout_graph)\n",
    "            \n",
    "        elif analysis=='ProbPlot':\n",
    "            t_final = 130\n",
    "            t_range = np.arange(0,t_final)\n",
    "            \n",
    "            ppf_y = di.weibull().ppf(d._json_file['best_model']['MLE']['params'],t_range)\n",
    "            \n",
    "            layout_graph.yaxis.title = 'Percentile'\n",
    "            layout_graph.xaxis.title = ''\n",
    "            \n",
    "            return go.Figure(data=[go.Scatter(x=t_range, y=ppf_y,\n",
    "                                                   marker=dict(\n",
    "                                                       color='#d04e09',\n",
    "                                                       line=dict(\n",
    "                                                           color='#d04e09',\n",
    "                                                           width=1.5,\n",
    "                                                       )))], layout=layout_graph)\n",
    "            \n",
    "        else:\n",
    "            raise NotImplementedError('Type of analysis defined is not implemented yet.')"
   ]
  },
  {
   "cell_type": "code",
   "execution_count": 3,
   "metadata": {
    "ExecuteTime": {
     "end_time": "2017-11-08T10:00:03.822999Z",
     "start_time": "2017-11-08T10:00:03.768881Z"
    },
    "scrolled": false
   },
   "outputs": [
    {
     "data": {
      "application/vnd.jupyter.widget-view+json": {
       "model_id": "bce48ff50f2e4fef94311d30785600a9"
      }
     },
     "metadata": {},
     "output_type": "display_data"
    },
    {
     "name": "stdout",
     "output_type": "stream",
     "text": [
      "Selected file: ['C:/Users/diogogoncalves/Desktop/EQS_LOCAL/Projects/reliability_analytics/RDA_app/models/stat/model_ttf_symptomNone_client5_weibull3p.json']\n",
      "JSON loaded:\n",
      "{'version': 0.1, 'saved_time': '2017-10-13 10:38:10.856039', 'symptom': None, 'client_id': 5, 'client_name': 'MANOLO', 'input_json': 'ttf_symptomNone_client5', 'competing_models': ['weibull3p', 'weibull2p', 'normal', 'lognormal', 'exponential1p', 'exponential2p', 'logistic', 'loglogistic'], 'best_model': {'law': 'weibull3p', 'MLE': {'params': [0.8396019185883878, 17.300285354263625, 0.9933372468035472], 'goodness_of_fit': {'lk': -350.2721532085231, 'ks': 0.9996831349543684, 'r_sq': 0.9953003245971949}}, 'LSQ': {'params': [0.8335213893186694, 17.4212315853981, 0.5008473439681994], 'goodness_of_fit': {'lk': -356.7148669052363, 'ks': 0.9996831349543684, 'r_sq': 0.9956015039297932}}}}\n"
     ]
    }
   ],
   "source": [
    "d = DisplayCalc()"
   ]
  },
  {
   "cell_type": "code",
   "execution_count": 4,
   "metadata": {
    "ExecuteTime": {
     "end_time": "2017-11-08T10:00:03.829023Z",
     "start_time": "2017-11-08T10:00:03.825003Z"
    },
    "collapsed": true
   },
   "outputs": [],
   "source": [
    "layout_comp = go.Layout(\n",
    "            title='Total Components by Component type',\n",
    "            # xaxis=dict(\n",
    "            #     title='Equipment',\n",
    "            # ),\n",
    "            xaxis=dict(tickangle=40),\n",
    "            yaxis=dict(title='Count of SAP numbers',)\n",
    "        )"
   ]
  },
  {
   "cell_type": "code",
   "execution_count": 5,
   "metadata": {
    "ExecuteTime": {
     "end_time": "2017-11-08T10:00:03.839844Z",
     "start_time": "2017-11-08T10:00:03.830817Z"
    }
   },
   "outputs": [],
   "source": [
    "layout_comp.yaxis.title = 'Time'\n",
    "layout_comp.xaxis.title = 'Percentage of equipment failed'"
   ]
  },
  {
   "cell_type": "code",
   "execution_count": 6,
   "metadata": {
    "ExecuteTime": {
     "end_time": "2017-11-08T10:00:03.999301Z",
     "start_time": "2017-11-08T10:00:03.841847Z"
    }
   },
   "outputs": [
    {
     "ename": "AttributeError",
     "evalue": "'DisplayCalc' object has no attribute '_json_file'",
     "output_type": "error",
     "traceback": [
      "\u001b[1;31m---------------------------------------------------------------------------\u001b[0m",
      "\u001b[1;31mAttributeError\u001b[0m                            Traceback (most recent call last)",
      "\u001b[1;32m<ipython-input-6-8182651269a8>\u001b[0m in \u001b[0;36m<module>\u001b[1;34m()\u001b[0m\n\u001b[1;32m----> 1\u001b[1;33m \u001b[0md\u001b[0m\u001b[1;33m.\u001b[0m\u001b[0m_json_file\u001b[0m\u001b[1;33m[\u001b[0m\u001b[1;34m'best_model'\u001b[0m\u001b[1;33m]\u001b[0m\u001b[1;33m[\u001b[0m\u001b[1;34m'law'\u001b[0m\u001b[1;33m]\u001b[0m\u001b[1;33m\u001b[0m\u001b[0m\n\u001b[0m",
      "\u001b[1;31mAttributeError\u001b[0m: 'DisplayCalc' object has no attribute '_json_file'"
     ]
    }
   ],
   "source": [
    "d._json_file['best_model']['law']"
   ]
  },
  {
   "cell_type": "code",
   "execution_count": null,
   "metadata": {
    "ExecuteTime": {
     "end_time": "2017-11-08T10:00:04.000279Z",
     "start_time": "2017-11-08T10:00:00.781Z"
    }
   },
   "outputs": [],
   "source": [
    "d._json_file['best_model']['LSQ']['params']"
   ]
  },
  {
   "cell_type": "code",
   "execution_count": null,
   "metadata": {
    "ExecuteTime": {
     "end_time": "2017-11-08T10:00:04.001273Z",
     "start_time": "2017-11-08T10:00:00.783Z"
    }
   },
   "outputs": [],
   "source": [
    "d._json_file"
   ]
  },
  {
   "cell_type": "code",
   "execution_count": null,
   "metadata": {
    "ExecuteTime": {
     "end_time": "2017-11-08T10:00:04.002272Z",
     "start_time": "2017-11-08T10:00:00.786Z"
    }
   },
   "outputs": [],
   "source": [
    "convergence_criterium = 1e-4\n",
    "int_MTBF = np.cumsum(1-di.weibull().cdf(d._json_file['best_model']['MLE']['params'],np.arange(0,130)))"
   ]
  },
  {
   "cell_type": "code",
   "execution_count": null,
   "metadata": {
    "ExecuteTime": {
     "end_time": "2017-11-08T10:00:04.002272Z",
     "start_time": "2017-11-08T10:00:00.789Z"
    }
   },
   "outputs": [],
   "source": [
    "plt.plot(int_MTBF)"
   ]
  },
  {
   "cell_type": "code",
   "execution_count": null,
   "metadata": {
    "ExecuteTime": {
     "end_time": "2017-11-08T10:00:04.003275Z",
     "start_time": "2017-11-08T10:00:00.793Z"
    }
   },
   "outputs": [],
   "source": [
    "plt.plot(1-di.weibull().cdf(d._json_file['best_model']['MLE']['params'],np.arange(0,130)))"
   ]
  },
  {
   "cell_type": "code",
   "execution_count": null,
   "metadata": {
    "ExecuteTime": {
     "end_time": "2017-11-08T10:00:04.003275Z",
     "start_time": "2017-11-08T10:00:00.796Z"
    }
   },
   "outputs": [],
   "source": [
    "convergence_criterium"
   ]
  },
  {
   "cell_type": "code",
   "execution_count": null,
   "metadata": {
    "ExecuteTime": {
     "end_time": "2017-11-08T10:00:04.004278Z",
     "start_time": "2017-11-08T10:00:00.798Z"
    }
   },
   "outputs": [],
   "source": [
    "int_MTBF[np.argmax(np.diff(np.diff(int_MTBF)))]"
   ]
  },
  {
   "cell_type": "code",
   "execution_count": null,
   "metadata": {
    "ExecuteTime": {
     "end_time": "2017-11-08T10:00:04.004278Z",
     "start_time": "2017-11-08T10:00:00.799Z"
    }
   },
   "outputs": [],
   "source": [
    "int_MTBF[np.max(np.where(np.diff(np.diff(np.diff(int_MTBF)))>convergence_criterium))]  # converging criteria"
   ]
  },
  {
   "cell_type": "code",
   "execution_count": null,
   "metadata": {
    "ExecuteTime": {
     "end_time": "2017-11-08T10:00:04.005280Z",
     "start_time": "2017-11-08T10:00:00.802Z"
    }
   },
   "outputs": [],
   "source": [
    "plt.plot(np.diff(np.diff(np.diff(int_MTBF))))"
   ]
  },
  {
   "cell_type": "code",
   "execution_count": null,
   "metadata": {
    "ExecuteTime": {
     "end_time": "2017-11-08T10:00:04.006283Z",
     "start_time": "2017-11-08T10:00:00.803Z"
    }
   },
   "outputs": [],
   "source": [
    "plt.plot(np.diff(np.diff(np.cumsum(1-di.weibull().cdf(d._json_file['best_model']['MLE']['params'],np.arange(0,1000,1))))))"
   ]
  },
  {
   "cell_type": "markdown",
   "metadata": {
    "extensions": {
     "jupyter_dashboards": {
      "version": 1,
      "views": {
       "grid_default": {
        "col": 8,
        "height": 4,
        "hidden": false,
        "row": 5,
        "width": 4
       },
       "report_default": {}
      }
     }
    }
   },
   "source": [
    "### Data statistical summary:"
   ]
  },
  {
   "cell_type": "code",
   "execution_count": null,
   "metadata": {
    "ExecuteTime": {
     "end_time": "2017-11-08T10:00:04.006283Z",
     "start_time": "2017-11-08T10:00:00.805Z"
    },
    "extensions": {
     "jupyter_dashboards": {
      "version": 1,
      "views": {
       "grid_default": {
        "hidden": true
       },
       "report_default": {}
      }
     }
    }
   },
   "outputs": [],
   "source": [
    "# perc = np.linspace(0,1-1e-3,10)*100\n",
    "\n",
    "perc = np.array([0.01, .1, 1, 2, 3, 4, 5, 6, 7, 8, 9, 10,\n",
    "                  20, 30, 40, 50, 60, 70, 80, 85, 90, 95,\n",
    "#                 99,\n",
    "#                 99.9,\n",
    "                  99.99\n",
    "                ])"
   ]
  },
  {
   "cell_type": "code",
   "execution_count": null,
   "metadata": {
    "ExecuteTime": {
     "end_time": "2017-11-08T10:00:04.007285Z",
     "start_time": "2017-11-08T10:00:00.806Z"
    },
    "extensions": {
     "jupyter_dashboards": {
      "version": 1,
      "views": {
       "grid_default": {
        "hidden": true
       },
       "report_default": {}
      }
     }
    }
   },
   "outputs": [],
   "source": [
    "percentile = di.weibull().ppf(d._json_file['best_model']['MLE']['params'],perc/100)\n",
    "\n",
    "table_of_percentiles = pd.DataFrame({'BX%':perc,'Percentile (t)':percentile})\n",
    "table_of_percentiles"
   ]
  },
  {
   "cell_type": "code",
   "execution_count": null,
   "metadata": {
    "ExecuteTime": {
     "end_time": "2017-11-08T10:00:04.007285Z",
     "start_time": "2017-11-08T10:00:00.808Z"
    }
   },
   "outputs": [],
   "source": [
    "table_of_percentiles.loc[table_of_percentiles['BX%']==10,'Percentile (t)'].values[0]"
   ]
  },
  {
   "cell_type": "code",
   "execution_count": null,
   "metadata": {
    "ExecuteTime": {
     "end_time": "2017-11-08T10:00:04.008292Z",
     "start_time": "2017-11-08T10:00:00.809Z"
    },
    "extensions": {
     "jupyter_dashboards": {
      "version": 1,
      "views": {
       "grid_default": {
        "col": 4,
        "height": 16,
        "hidden": false,
        "row": 32,
        "width": 4
       },
       "report_default": {}
      }
     }
    }
   },
   "outputs": [],
   "source": [
    "fig, ax = plt.subplots()\n",
    "ax.semilogy(perc, percentile)\n",
    "ax.set_xlabel('Percentage of equipment failed')\n",
    "ax.set_ylabel('Time')"
   ]
  },
  {
   "cell_type": "code",
   "execution_count": null,
   "metadata": {
    "ExecuteTime": {
     "end_time": "2017-11-08T10:00:04.008292Z",
     "start_time": "2017-11-08T10:00:00.811Z"
    }
   },
   "outputs": [],
   "source": [
    "plt.plot(perc, percentile)\n",
    "plt.xlabel('Percentage of equipment failed')\n",
    "plt.ylabel('Time')"
   ]
  },
  {
   "cell_type": "code",
   "execution_count": null,
   "metadata": {},
   "outputs": [],
   "source": []
  }
 ],
 "metadata": {
  "extensions": {
   "jupyter_dashboards": {
    "activeView": "grid_default",
    "version": 1,
    "views": {
     "grid_default": {
      "cellMargin": 10,
      "defaultCellHeight": 20,
      "maxColumns": 12,
      "name": "grid",
      "type": "grid"
     },
     "report_default": {
      "name": "report",
      "type": "report"
     }
    }
   }
  },
  "hide_input": true,
  "kernelspec": {
   "display_name": "Python 3",
   "language": "python",
   "name": "python3"
  },
  "language_info": {
   "codemirror_mode": {
    "name": "ipython",
    "version": 3
   },
   "file_extension": ".py",
   "mimetype": "text/x-python",
   "name": "python",
   "nbconvert_exporter": "python",
   "pygments_lexer": "ipython3",
   "version": "3.6.6"
  },
  "varInspector": {
   "cols": {
    "lenName": 16,
    "lenType": 16,
    "lenVar": 40
   },
   "kernels_config": {
    "python": {
     "delete_cmd_postfix": "",
     "delete_cmd_prefix": "del ",
     "library": "var_list.py",
     "varRefreshCmd": "print(var_dic_list())"
    },
    "r": {
     "delete_cmd_postfix": ") ",
     "delete_cmd_prefix": "rm(",
     "library": "var_list.r",
     "varRefreshCmd": "cat(var_dic_list()) "
    }
   },
   "types_to_exclude": [
    "module",
    "function",
    "builtin_function_or_method",
    "instance",
    "_Feature"
   ],
   "window_display": false
  },
  "widgets": {
   "state": {
    "00c63ea3c88846468bb3e78ef2dd7836": {
     "views": [
      {
       "cell_index": 7
      }
     ]
    },
    "097c0e5ad5274ad591f008a131090561": {
     "views": [
      {
       "cell_index": 7
      }
     ]
    },
    "3969d54872a048a9b72be4c83e9dd4b4": {
     "views": [
      {
       "cell_index": 7
      }
     ]
    },
    "a16f03cb6a1144eeb7a73b9996ffaf33": {
     "views": [
      {
       "cell_index": 7
      }
     ]
    },
    "c2f095feaec34cdda4f43d00270371e3": {
     "views": [
      {
       "cell_index": 7
      }
     ]
    }
   },
   "version": "1.2.0"
  }
 },
 "nbformat": 4,
 "nbformat_minor": 2
}
