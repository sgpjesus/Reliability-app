{
 "cells": [
  {
   "cell_type": "code",
   "execution_count": null,
   "metadata": {
    "ExecuteTime": {
     "end_time": "2017-10-30T12:26:54.407540Z",
     "start_time": "2017-10-30T12:26:52.421928Z"
    },
    "extensions": {
     "jupyter_dashboards": {
      "version": 1,
      "views": {
       "grid_default": {
        "col": 0,
        "height": 4,
        "hidden": true,
        "row": 0,
        "width": 4
       },
       "report_default": {}
      }
     }
    }
   },
   "outputs": [],
   "source": [
    "\n",
    "import sys \n",
    "sys.path.append(r'..\\bin')\n",
    "import analytics_stat.distributions as di\n",
    "\n",
    "import warnings\n",
    "warnings.filterwarnings('ignore')\n",
    "\n",
    "import datetime\n",
    "import scipy.stats as s\n",
    "#import scipy.optimize as opt\n",
    "#import scipy.special as special\n",
    "import numpy as np\n",
    "import matplotlib.pyplot as plt\n",
    "import ipywidgets as widgets\n",
    "%matplotlib inline\n",
    "# %matplotlib notebook\n",
    "\n",
    "import os\n",
    "import json\n",
    "import pandas as pd\n",
    "import qgrid\n",
    "from IPython.display import HTML, Image, display, clear_output\n",
    "# display(HTML(\"<style>.container { width:95% !important; }</style>\"))\n",
    "\n",
    "# py.sign_in('diogo.antunes.goncalves', 'kt7T5JadNn2AhWk3DdPR')\n",
    "\n",
    "import plotly.offline as py\n",
    "import plotly.graph_objs as go\n",
    "py.init_notebook_mode(connected=True)\n",
    "\n",
    "display(HTML('''<script>\n",
    "code_show=false;\n",
    "function code_toggle() {\n",
    " if (code_show){\n",
    " $('div.input').hide();\n",
    " } else {\n",
    " $('div.input').show();\n",
    " }\n",
    " code_show = !code_show\n",
    "} \n",
    "$( document ).ready(code_toggle);\n",
    "</script>\n",
    "To hide/show code, click <a href=\"javascript:code_toggle()\">here</a>.''')) \n",
    "\n"
   ]
  },
  {
   "cell_type": "code",
   "execution_count": null,
   "metadata": {
    "ExecuteTime": {
     "end_time": "2017-10-30T12:26:55.198641Z",
     "start_time": "2017-10-30T12:26:54.408543Z"
    },
    "code_folding": []
   },
   "outputs": [],
   "source": [
    "import traitlets\n",
    "from tkinter import Tk, filedialog\n",
    "\n",
    "\n",
    "class Plotting:\n",
    "    \n",
    "    def __init__(self):\n",
    "        pass\n",
    "    \n",
    "    def plot_line(self, json, x, y, name):\n",
    "        x = json.x\n",
    "        y = json.y\n",
    "        name = json.name\n",
    "        trace_line = go.Scatter(x = x, y = y, mode = 'lines', opacity = 0.8, name = name, xaxis = 'x', yaxis = 'y')\n",
    "        \n",
    "    def plot_scatter(self,  x, y, name):\n",
    "        x = json.x\n",
    "        y = json.y\n",
    "        name = json.name\n",
    "        trace_scatter = go.Scatter(x = x, y = y, mode = 'markers', opacity = 0.8, name = fn, xaxis = 'x', yaxis = 'y')\n",
    "        \n",
    "    def plot_histogram(self,  x, name, normed):\n",
    "        x= json.x\n",
    "        normed = json.type  # 'probability'\n",
    "        trace_histogram = go.Histogram(x=x, histnorm=normed)\n",
    "                           \n",
    "    def create_layout(self, title, xlabel, ylabel):\n",
    "        title = json.title\n",
    "        xlabel = json.xlabel\n",
    "        ylabel = json.ylabel\n",
    "        layout = Layout(title=title, yaxis=dict(title=ylabel)) \n",
    "        \n",
    "    def draw(self,trace,layout):\n",
    "        fig = go.Figure(data = [trace_histogram],layout=layout)\n",
    "        py.iplot(fig)\n",
    "\n",
    "        \n",
    "\n",
    "class StatPlot(Plotting):\n",
    "    \n",
    "    def __init__(self):\n",
    "        \n",
    "        pass\n",
    "    \n",
    "    def pdf(self, json):\n",
    "        \n",
    "        pdf_mle = dist_funs[dist_index[0]].pdf(params_dist_mle,  x_plot)\n",
    "\n",
    "\n",
    "\n",
    "class DisplayCalc:\n",
    "    \n",
    "    def __init__(self):\n",
    "        \n",
    "        # Select file button\n",
    "        self._bsf = widgets.Button(layout=widgets.Layout(width='500px',height='50px'))\n",
    "        self._bsf.add_traits(files=traitlets.traitlets.List())\n",
    "        self._bsf.description = \"Select File\"\n",
    "        self._bsf.icon = \"square-o\"\n",
    "        self._bsf.on_click(self.select_json)\n",
    "        \n",
    "        \n",
    "        # Load Json button\n",
    "        self._blj = widgets.Button(layout=widgets.Layout(width='500px',height='50px'))\n",
    "        self._blj.description = \"Load Model\"\n",
    "        self._blj.icon = 'download'\n",
    "        self._blj.on_click(self.load_json_model)\n",
    "        self._blj.disabled = True\n",
    "        \n",
    "        # Rank distributions button\n",
    "        self._bpdf = widgets.Button(layout=widgets.Layout(width='500px',height='50px'))\n",
    "        self._bpdf.description = 'Plot PDF'\n",
    "        self._bpdf.icon = \"area-chart\"\n",
    "        self._bpdf.on_click(self.plot_pdf)\n",
    "        self._bpdf.disabled = True\n",
    "        \n",
    "        # Save model button\n",
    "        self._bsm = widgets.Button(layout=widgets.Layout(width='500px',height='50px'))\n",
    "        self._bsm.description = 'Save Best Model'\n",
    "        self._bsm.icon = \"floppy-o\"\n",
    "        self._bsm.on_click(self.save_model_json)\n",
    "        self._bsm.disable = True\n",
    "        \n",
    "        # define layout\n",
    "        box_layout = widgets.Layout(display='center',\n",
    "                            flex_flow='row',\n",
    "                            align_items='center',\n",
    "                            border='None',\n",
    "                            justify_content='space-between',\n",
    "                            width='800px')\n",
    "        \n",
    "        self._box_a = widgets.Box(children=[self._bsf,\n",
    "                                          self._blj,  \n",
    "                                          self._bsm], layout=box_layout)\n",
    "        \n",
    "        self._box_b = widgets.Box(children=[self._bpdf,\n",
    "                                          self._blj,  \n",
    "                                          ], layout=box_layout)\n",
    "        \n",
    "        display(widgets.VBox([self._box_a, self._box_b]))\n",
    "        \n",
    "    def select_json(self,b): \n",
    "        # Create Tk root\n",
    "        root = Tk()\n",
    "        # Hide the main window\n",
    "        root.withdraw()\n",
    "        # Raise the root to the top of all windows.\n",
    "        root.call('wm', 'attributes', '.', '-topmost', True)\n",
    "        \n",
    "        new_file = filedialog.askopenfilename(multiple=True,filetypes = [(\"JSON\",'*.json')])\n",
    "        if new_file != \"\":\n",
    "            self._bsf.files = new_file\n",
    "\n",
    "        print('Selected file: {}'.format(self._bsf.files ))\n",
    "\n",
    "        self._bsf.description = \"Files Selected\"\n",
    "        self._bsf.icon = \"check-square-o\"\n",
    "        self._bsf.button_style = \"success\"\n",
    "        \n",
    "        self._blj.disabled = False\n",
    "\n",
    "        \n",
    "        \n",
    "    def load_json_model(self, b):\n",
    "        \n",
    "        file_path = self._bsf.files\n",
    "        if (type(file_path) == list) and (len(file_path)>0):\n",
    "            with open(file_path[0], 'r') as f:\n",
    "                self._json_file = json.load(f)\n",
    "                \n",
    "            self._client = self._json_file['client_name']\n",
    "            self._clientid = self._json_file['client_id']\n",
    "            self._symptom = self._json_file['symptom']\n",
    "                \n",
    "            self._blj.button_style = \"success\"\n",
    "#             print('JSON loaded.')\n",
    "        else:\n",
    "            print('Select file.')\n",
    "            \n",
    "            \n",
    "    def save_model_json(self, b):\n",
    "        json_model = dict()\n",
    "        json_model['version'] = 0.1 \n",
    "        json_model['saved_time'] = str(datetime.datetime.now())\n",
    "        \n",
    "        if self._symptom is None:\n",
    "            json_model['symptom'] = None\n",
    "        elif isinstance(self._symptom, int):\n",
    "            json_model['symptom'] = int(self._symptom)\n",
    "        elif isinstance(self._symptom, list):\n",
    "            json_model['symptom'] = self._symptom\n",
    "        else:\n",
    "            raise TypeError('Undefined type for Symptom')\n",
    "            \n",
    "        json_model['client_id'] = int(self._clientid)\n",
    "        json_model['client_name'] = self._client\n",
    "        \n",
    "        json_model['input_json'] = os.path.splitext(os.path.basename(d._bsf.files[0]))[0]\n",
    "        json_model['competing_models'] = list(self._sdist.value)\n",
    "        \n",
    "        json_model['best_model'] = dict()\n",
    "        json_model['best_model']['law'] = self._combs[0].iloc[0].name\n",
    "        json_model['best_model']['MLE'] = dict()\n",
    "        json_model['best_model']['MLE']['params'] = self._res_mle[json_model['best_model']['law']]['params']\n",
    "        json_model['best_model']['MLE']['goodness_of_fit'] = self._res_mle[json_model['best_model']['law']]['goodness_of_fit']\n",
    "        \n",
    "        json_model['best_model']['LSQ'] = dict()\n",
    "        json_model['best_model']['LSQ']['params'] = self._res_ls[json_model['best_model']['law']]['params']\n",
    "        json_model['best_model']['LSQ']['goodness_of_fit'] = self._res_ls[json_model['best_model']['law']]['goodness_of_fit']\n",
    "                                \n",
    "        with open(\"../models/stat/model_{}_{}.json\".format(json_model['input_json'],\n",
    "                                                           json_model['best_model']['law']), 'w') as f:\n",
    "            json.dump(json_model, f)\n",
    "        \n",
    "        self._bsm.button_style = 'success'\n",
    "        \n",
    "        \n",
    "    def plot_pdf(self,b):\n",
    "        print('pdf')"
   ]
  },
  {
   "cell_type": "code",
   "execution_count": null,
   "metadata": {
    "ExecuteTime": {
     "end_time": "2017-10-30T12:26:55.249778Z",
     "start_time": "2017-10-30T12:26:55.199644Z"
    },
    "scrolled": false
   },
   "outputs": [],
   "source": [
    "d = DisplayCalc()"
   ]
  },
  {
   "cell_type": "code",
   "execution_count": null,
   "metadata": {
    "ExecuteTime": {
     "end_time": "2017-10-30T12:26:55.320994Z",
     "start_time": "2017-10-30T12:26:55.250781Z"
    }
   },
   "outputs": [],
   "source": [
    "from ipywidgets import Layout, Button, Box, FloatText, Textarea, Dropdown, Label, IntSlider\n",
    "\n",
    "label_layout = widgets.Layout(width='500px')\n",
    "\n",
    "form_item_layout = widgets.Layout(\n",
    "    display='flex',\n",
    "    flex_flow='row',\n",
    "    justify_content='space-between'\n",
    ")\n",
    "\n",
    "form_items = [\n",
    "    widgets.Box([Label(value='Age of the captain',layout=label_layout), widgets.IntSlider(min=40, max=60)], layout=form_item_layout),\n",
    "    widgets.Box([Label(value='Egg style'),\n",
    "         widgets.Dropdown(options=['Scrambled', 'Sunny side up', 'Over easy'])], layout=form_item_layout),\n",
    "    widgets.Box([widgets.widgets.Label(value='Ship size'),\n",
    "         widgets.FloatText()], layout=form_item_layout),\n",
    "    widgets.Box([widgets.Label(value='Information'),\n",
    "         widgets.Text(layout = widgets.Layout(heigth='1200px'),\n",
    "                     )], layout=form_item_layout)\n",
    "]\n",
    "\n",
    "form = widgets.Box(form_items, layout=widgets.Layout(\n",
    "    display='flex',\n",
    "    flex_flow='column',\n",
    "    border='solid',\n",
    "    align_items='stretch',\n",
    "    width='50%'\n",
    "))\n",
    "form\n"
   ]
  },
  {
   "cell_type": "code",
   "execution_count": null,
   "metadata": {
    "ExecuteTime": {
     "end_time": "2017-10-30T12:26:55.325991Z",
     "start_time": "2017-10-30T12:26:55.321970Z"
    }
   },
   "outputs": [],
   "source": [
    "form_items[3].children[1].value ='csjfnsjnfsjn'"
   ]
  },
  {
   "cell_type": "code",
   "execution_count": null,
   "metadata": {
    "ExecuteTime": {
     "end_time": "2017-10-30T12:26:55.336034Z",
     "start_time": "2017-10-30T12:26:55.329013Z"
    }
   },
   "outputs": [],
   "source": [
    "def on_value_change(change):\n",
    "    print(change['new'])\n",
    "    form_items[3].children[1].value = change['new']\n",
    "\n",
    "form_items[1].children[1].observe(on_value_change, names='value')"
   ]
  },
  {
   "cell_type": "code",
   "execution_count": null,
   "metadata": {
    "ExecuteTime": {
     "end_time": "2017-10-30T12:26:55.493180Z",
     "start_time": "2017-10-30T12:26:55.337011Z"
    }
   },
   "outputs": [],
   "source": [
    "d._json_file['best_model']['law']"
   ]
  },
  {
   "cell_type": "code",
   "execution_count": null,
   "metadata": {
    "ExecuteTime": {
     "end_time": "2017-10-30T12:26:55.494182Z",
     "start_time": "2017-10-30T12:26:52.444Z"
    }
   },
   "outputs": [],
   "source": [
    "d._json_file['best_model']['LSQ']['params']"
   ]
  },
  {
   "cell_type": "code",
   "execution_count": null,
   "metadata": {
    "ExecuteTime": {
     "end_time": "2017-10-30T12:26:55.495182Z",
     "start_time": "2017-10-30T12:26:52.447Z"
    }
   },
   "outputs": [],
   "source": [
    "convergence_criterium = 1e-4\n",
    "int_MTBF = np.cumsum(1-di.weibull().cdf(d._json_file['best_model']['MLE']['params'],np.arange(0,130)))"
   ]
  },
  {
   "cell_type": "code",
   "execution_count": null,
   "metadata": {
    "ExecuteTime": {
     "end_time": "2017-10-30T12:26:55.495182Z",
     "start_time": "2017-10-30T12:26:52.450Z"
    }
   },
   "outputs": [],
   "source": [
    "plt.plot(int_MTBF)"
   ]
  },
  {
   "cell_type": "code",
   "execution_count": null,
   "metadata": {
    "ExecuteTime": {
     "end_time": "2017-10-30T12:26:55.496185Z",
     "start_time": "2017-10-30T12:26:52.452Z"
    }
   },
   "outputs": [],
   "source": [
    "int_MTBF[np.diff(np.diff(np.diff(int_MTBF)))>convergence_criterium][-1]"
   ]
  },
  {
   "cell_type": "code",
   "execution_count": null,
   "metadata": {
    "ExecuteTime": {
     "end_time": "2017-10-30T12:26:55.497187Z",
     "start_time": "2017-10-30T12:26:52.455Z"
    }
   },
   "outputs": [],
   "source": [
    "int_MTBF[np.argmax(np.diff(np.diff(int_MTBF)))]"
   ]
  },
  {
   "cell_type": "code",
   "execution_count": null,
   "metadata": {
    "ExecuteTime": {
     "end_time": "2017-10-30T12:26:55.498191Z",
     "start_time": "2017-10-30T12:26:52.456Z"
    }
   },
   "outputs": [],
   "source": [
    "plt.plot(np.diff(np.diff(np.cumsum(1-di.weibull().cdf(d._json_file['best_model']['MLE']['params'],np.arange(0,1000,1))))))"
   ]
  },
  {
   "cell_type": "markdown",
   "metadata": {
    "extensions": {
     "jupyter_dashboards": {
      "version": 1,
      "views": {
       "grid_default": {
        "col": 8,
        "height": 4,
        "hidden": false,
        "row": 5,
        "width": 4
       },
       "report_default": {}
      }
     }
    }
   },
   "source": [
    "### Data statistical summary:"
   ]
  },
  {
   "cell_type": "code",
   "execution_count": null,
   "metadata": {
    "ExecuteTime": {
     "end_time": "2017-10-30T12:26:55.499193Z",
     "start_time": "2017-10-30T12:26:52.459Z"
    },
    "extensions": {
     "jupyter_dashboards": {
      "version": 1,
      "views": {
       "grid_default": {
        "hidden": true
       },
       "report_default": {}
      }
     }
    }
   },
   "outputs": [],
   "source": [
    "perc = np.linspace(0,1-1e-3,10)\n",
    "perc = np.array([0.01,.1,1,2,3,4,5,6,7,8,9,10,20,30,40,50,60,70,80,85,90,95,99,99.9,99.99])"
   ]
  },
  {
   "cell_type": "code",
   "execution_count": null,
   "metadata": {
    "ExecuteTime": {
     "end_time": "2017-10-30T12:26:55.500202Z",
     "start_time": "2017-10-30T12:26:52.460Z"
    },
    "extensions": {
     "jupyter_dashboards": {
      "version": 1,
      "views": {
       "grid_default": {
        "hidden": true
       },
       "report_default": {}
      }
     }
    }
   },
   "outputs": [],
   "source": [
    "percentile = di.weibull().ppf([0.71616389532044444, 15.357402922686479, 0.99850129555238953],perc/100)"
   ]
  },
  {
   "cell_type": "code",
   "execution_count": null,
   "metadata": {
    "ExecuteTime": {
     "end_time": "2017-10-30T12:26:55.500202Z",
     "start_time": "2017-10-30T12:26:52.463Z"
    },
    "extensions": {
     "jupyter_dashboards": {
      "version": 1,
      "views": {
       "grid_default": {
        "col": 8,
        "height": 29,
        "hidden": false,
        "row": 24,
        "width": 4
       },
       "report_default": {}
      }
     }
    }
   },
   "outputs": [],
   "source": [
    "table_of_percentiles = pd.DataFrame({'BX%':perc,'Percentile (t)':percentile})\n",
    "table_of_percentiles"
   ]
  },
  {
   "cell_type": "code",
   "execution_count": null,
   "metadata": {
    "ExecuteTime": {
     "end_time": "2017-10-30T12:26:55.501199Z",
     "start_time": "2017-10-30T12:26:52.465Z"
    },
    "extensions": {
     "jupyter_dashboards": {
      "version": 1,
      "views": {
       "grid_default": {
        "col": 4,
        "height": 16,
        "hidden": false,
        "row": 32,
        "width": 4
       },
       "report_default": {}
      }
     }
    }
   },
   "outputs": [],
   "source": [
    "fig, ax = plt.subplots()\n",
    "\n",
    "ax.semilogy(perc, percentile)"
   ]
  },
  {
   "cell_type": "code",
   "execution_count": null,
   "metadata": {},
   "outputs": [],
   "source": []
  }
 ],
 "metadata": {
  "extensions": {
   "jupyter_dashboards": {
    "activeView": "grid_default",
    "version": 1,
    "views": {
     "grid_default": {
      "cellMargin": 10,
      "defaultCellHeight": 20,
      "maxColumns": 12,
      "name": "grid",
      "type": "grid"
     },
     "report_default": {
      "name": "report",
      "type": "report"
     }
    }
   }
  },
  "hide_input": true,
  "kernelspec": {
   "display_name": "Python 3",
   "language": "python",
   "name": "python3"
  },
  "language_info": {
   "codemirror_mode": {
    "name": "ipython",
    "version": 3
   },
   "file_extension": ".py",
   "mimetype": "text/x-python",
   "name": "python",
   "nbconvert_exporter": "python",
   "pygments_lexer": "ipython3",
   "version": "3.6.6"
  },
  "varInspector": {
   "cols": {
    "lenName": 16,
    "lenType": 16,
    "lenVar": 40
   },
   "kernels_config": {
    "python": {
     "delete_cmd_postfix": "",
     "delete_cmd_prefix": "del ",
     "library": "var_list.py",
     "varRefreshCmd": "print(var_dic_list())"
    },
    "r": {
     "delete_cmd_postfix": ") ",
     "delete_cmd_prefix": "rm(",
     "library": "var_list.r",
     "varRefreshCmd": "cat(var_dic_list()) "
    }
   },
   "types_to_exclude": [
    "module",
    "function",
    "builtin_function_or_method",
    "instance",
    "_Feature"
   ],
   "window_display": false
  },
  "widgets": {
   "state": {
    "00c63ea3c88846468bb3e78ef2dd7836": {
     "views": [
      {
       "cell_index": 7
      }
     ]
    },
    "097c0e5ad5274ad591f008a131090561": {
     "views": [
      {
       "cell_index": 7
      }
     ]
    },
    "3969d54872a048a9b72be4c83e9dd4b4": {
     "views": [
      {
       "cell_index": 7
      }
     ]
    },
    "a16f03cb6a1144eeb7a73b9996ffaf33": {
     "views": [
      {
       "cell_index": 7
      }
     ]
    },
    "c2f095feaec34cdda4f43d00270371e3": {
     "views": [
      {
       "cell_index": 7
      }
     ]
    }
   },
   "version": "1.2.0"
  }
 },
 "nbformat": 4,
 "nbformat_minor": 2
}
